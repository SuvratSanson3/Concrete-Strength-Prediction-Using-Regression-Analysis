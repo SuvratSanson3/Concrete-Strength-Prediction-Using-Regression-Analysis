{
 "cells": [
  {
   "cell_type": "markdown",
   "id": "226a4c7e-3856-4dac-8b05-a2370f78b89a",
   "metadata": {},
   "source": [
    "<div style=\"background-color: #FFEE77; padding: 10px;\">\n",
    "\n",
    "# ***`Import The Libraries`***"
   ]
  },
  {
   "cell_type": "code",
   "execution_count": 1,
   "id": "d3d03995-0c4c-4a93-a704-13c743e49b55",
   "metadata": {},
   "outputs": [],
   "source": [
    "import numpy as np\n",
    "import pandas as pd\n",
    "import seaborn as sns\n",
    "import matplotlib.pyplot as plt\n",
    "import scipy.stats as stats\n",
    "import statsmodels.formula.api as sfa\n",
    "import statsmodels.api as sma\n",
    "from statsmodels.stats.outliers_influence import variance_inflation_factor\n",
    "from statsmodels.stats.diagnostic import linear_rainbow"
   ]
  },
  {
   "cell_type": "markdown",
   "id": "cc7a0eb9-944b-42c8-b6b5-b798deb87bdd",
   "metadata": {},
   "source": [
    "<div style=\"background-color: #FFEE77; padding: 10px;\">\n",
    "\n",
    "# ***`Import the dataset`***"
   ]
  },
  {
   "cell_type": "code",
   "execution_count": 2,
   "id": "b7b846b3-7a7d-4388-9d03-a11d3bf2c0ea",
   "metadata": {},
   "outputs": [],
   "source": [
    "data = pd.read_excel('Concrete_Data.xlsx')"
   ]
  },
  {
   "cell_type": "code",
   "execution_count": 3,
   "id": "c66da183-e368-4203-b433-3ecd8acfaafe",
   "metadata": {},
   "outputs": [
    {
     "data": {
      "text/html": [
       "<div>\n",
       "<style scoped>\n",
       "    .dataframe tbody tr th:only-of-type {\n",
       "        vertical-align: middle;\n",
       "    }\n",
       "\n",
       "    .dataframe tbody tr th {\n",
       "        vertical-align: top;\n",
       "    }\n",
       "\n",
       "    .dataframe thead th {\n",
       "        text-align: right;\n",
       "    }\n",
       "</style>\n",
       "<table border=\"1\" class=\"dataframe\">\n",
       "  <thead>\n",
       "    <tr style=\"text-align: right;\">\n",
       "      <th></th>\n",
       "      <th>Cement</th>\n",
       "      <th>Blast Furnace Slag</th>\n",
       "      <th>Fly Ash</th>\n",
       "      <th>Water</th>\n",
       "      <th>Superplasticizer</th>\n",
       "      <th>Coarse Aggregate</th>\n",
       "      <th>Fine Aggregate</th>\n",
       "      <th>Age</th>\n",
       "      <th>CCS</th>\n",
       "    </tr>\n",
       "  </thead>\n",
       "  <tbody>\n",
       "    <tr>\n",
       "      <th>0</th>\n",
       "      <td>540.0</td>\n",
       "      <td>0.0</td>\n",
       "      <td>0.0</td>\n",
       "      <td>162.0</td>\n",
       "      <td>2.5</td>\n",
       "      <td>1040.0</td>\n",
       "      <td>676.0</td>\n",
       "      <td>28</td>\n",
       "      <td>79.986111</td>\n",
       "    </tr>\n",
       "    <tr>\n",
       "      <th>1</th>\n",
       "      <td>540.0</td>\n",
       "      <td>0.0</td>\n",
       "      <td>0.0</td>\n",
       "      <td>162.0</td>\n",
       "      <td>2.5</td>\n",
       "      <td>1055.0</td>\n",
       "      <td>676.0</td>\n",
       "      <td>28</td>\n",
       "      <td>61.887366</td>\n",
       "    </tr>\n",
       "    <tr>\n",
       "      <th>2</th>\n",
       "      <td>332.5</td>\n",
       "      <td>142.5</td>\n",
       "      <td>0.0</td>\n",
       "      <td>228.0</td>\n",
       "      <td>0.0</td>\n",
       "      <td>932.0</td>\n",
       "      <td>594.0</td>\n",
       "      <td>270</td>\n",
       "      <td>40.269535</td>\n",
       "    </tr>\n",
       "    <tr>\n",
       "      <th>3</th>\n",
       "      <td>332.5</td>\n",
       "      <td>142.5</td>\n",
       "      <td>0.0</td>\n",
       "      <td>228.0</td>\n",
       "      <td>0.0</td>\n",
       "      <td>932.0</td>\n",
       "      <td>594.0</td>\n",
       "      <td>365</td>\n",
       "      <td>41.052780</td>\n",
       "    </tr>\n",
       "    <tr>\n",
       "      <th>4</th>\n",
       "      <td>198.6</td>\n",
       "      <td>132.4</td>\n",
       "      <td>0.0</td>\n",
       "      <td>192.0</td>\n",
       "      <td>0.0</td>\n",
       "      <td>978.4</td>\n",
       "      <td>825.5</td>\n",
       "      <td>360</td>\n",
       "      <td>44.296075</td>\n",
       "    </tr>\n",
       "    <tr>\n",
       "      <th>...</th>\n",
       "      <td>...</td>\n",
       "      <td>...</td>\n",
       "      <td>...</td>\n",
       "      <td>...</td>\n",
       "      <td>...</td>\n",
       "      <td>...</td>\n",
       "      <td>...</td>\n",
       "      <td>...</td>\n",
       "      <td>...</td>\n",
       "    </tr>\n",
       "    <tr>\n",
       "      <th>1025</th>\n",
       "      <td>276.4</td>\n",
       "      <td>116.0</td>\n",
       "      <td>90.3</td>\n",
       "      <td>179.6</td>\n",
       "      <td>8.9</td>\n",
       "      <td>870.1</td>\n",
       "      <td>768.3</td>\n",
       "      <td>28</td>\n",
       "      <td>44.284354</td>\n",
       "    </tr>\n",
       "    <tr>\n",
       "      <th>1026</th>\n",
       "      <td>322.2</td>\n",
       "      <td>0.0</td>\n",
       "      <td>115.6</td>\n",
       "      <td>196.0</td>\n",
       "      <td>10.4</td>\n",
       "      <td>817.9</td>\n",
       "      <td>813.4</td>\n",
       "      <td>28</td>\n",
       "      <td>31.178794</td>\n",
       "    </tr>\n",
       "    <tr>\n",
       "      <th>1027</th>\n",
       "      <td>148.5</td>\n",
       "      <td>139.4</td>\n",
       "      <td>108.6</td>\n",
       "      <td>192.7</td>\n",
       "      <td>6.1</td>\n",
       "      <td>892.4</td>\n",
       "      <td>780.0</td>\n",
       "      <td>28</td>\n",
       "      <td>23.696601</td>\n",
       "    </tr>\n",
       "    <tr>\n",
       "      <th>1028</th>\n",
       "      <td>159.1</td>\n",
       "      <td>186.7</td>\n",
       "      <td>0.0</td>\n",
       "      <td>175.6</td>\n",
       "      <td>11.3</td>\n",
       "      <td>989.6</td>\n",
       "      <td>788.9</td>\n",
       "      <td>28</td>\n",
       "      <td>32.768036</td>\n",
       "    </tr>\n",
       "    <tr>\n",
       "      <th>1029</th>\n",
       "      <td>260.9</td>\n",
       "      <td>100.5</td>\n",
       "      <td>78.3</td>\n",
       "      <td>200.6</td>\n",
       "      <td>8.6</td>\n",
       "      <td>864.5</td>\n",
       "      <td>761.5</td>\n",
       "      <td>28</td>\n",
       "      <td>32.401235</td>\n",
       "    </tr>\n",
       "  </tbody>\n",
       "</table>\n",
       "<p>1030 rows × 9 columns</p>\n",
       "</div>"
      ],
      "text/plain": [
       "      Cement   Blast Furnace Slag   Fly Ash   Water  Superplasticizer  \\\n",
       "0       540.0                  0.0       0.0  162.0               2.5   \n",
       "1       540.0                  0.0       0.0  162.0               2.5   \n",
       "2       332.5                142.5       0.0  228.0               0.0   \n",
       "3       332.5                142.5       0.0  228.0               0.0   \n",
       "4       198.6                132.4       0.0  192.0               0.0   \n",
       "...       ...                  ...       ...    ...               ...   \n",
       "1025    276.4                116.0      90.3  179.6               8.9   \n",
       "1026    322.2                  0.0     115.6  196.0              10.4   \n",
       "1027    148.5                139.4     108.6  192.7               6.1   \n",
       "1028    159.1                186.7       0.0  175.6              11.3   \n",
       "1029    260.9                100.5      78.3  200.6               8.6   \n",
       "\n",
       "      Coarse Aggregate    Fine Aggregate   Age         CCS  \n",
       "0                 1040.0            676.0    28  79.986111  \n",
       "1                 1055.0            676.0    28  61.887366  \n",
       "2                  932.0            594.0   270  40.269535  \n",
       "3                  932.0            594.0   365  41.052780  \n",
       "4                  978.4            825.5   360  44.296075  \n",
       "...                  ...              ...   ...        ...  \n",
       "1025               870.1            768.3    28  44.284354  \n",
       "1026               817.9            813.4    28  31.178794  \n",
       "1027               892.4            780.0    28  23.696601  \n",
       "1028               989.6            788.9    28  32.768036  \n",
       "1029               864.5            761.5    28  32.401235  \n",
       "\n",
       "[1030 rows x 9 columns]"
      ]
     },
     "execution_count": 3,
     "metadata": {},
     "output_type": "execute_result"
    }
   ],
   "source": [
    "data"
   ]
  },
  {
   "cell_type": "markdown",
   "id": "7d64aaca-603a-4427-a7c8-e143a84f713a",
   "metadata": {},
   "source": [
    "## ***`Descriptive Analysis`***"
   ]
  },
  {
   "cell_type": "code",
   "execution_count": 4,
   "id": "f29a0263-6de1-407c-8f70-218cf867681a",
   "metadata": {},
   "outputs": [
    {
     "data": {
      "text/html": [
       "<div>\n",
       "<style scoped>\n",
       "    .dataframe tbody tr th:only-of-type {\n",
       "        vertical-align: middle;\n",
       "    }\n",
       "\n",
       "    .dataframe tbody tr th {\n",
       "        vertical-align: top;\n",
       "    }\n",
       "\n",
       "    .dataframe thead th {\n",
       "        text-align: right;\n",
       "    }\n",
       "</style>\n",
       "<table border=\"1\" class=\"dataframe\">\n",
       "  <thead>\n",
       "    <tr style=\"text-align: right;\">\n",
       "      <th></th>\n",
       "      <th>count</th>\n",
       "      <th>mean</th>\n",
       "      <th>std</th>\n",
       "      <th>min</th>\n",
       "      <th>25%</th>\n",
       "      <th>50%</th>\n",
       "      <th>75%</th>\n",
       "      <th>max</th>\n",
       "    </tr>\n",
       "  </thead>\n",
       "  <tbody>\n",
       "    <tr>\n",
       "      <th>Cement</th>\n",
       "      <td>1030.0</td>\n",
       "      <td>281.165631</td>\n",
       "      <td>104.507142</td>\n",
       "      <td>102.000000</td>\n",
       "      <td>192.375000</td>\n",
       "      <td>272.900000</td>\n",
       "      <td>350.000000</td>\n",
       "      <td>540.000000</td>\n",
       "    </tr>\n",
       "    <tr>\n",
       "      <th>Blast Furnace Slag</th>\n",
       "      <td>1030.0</td>\n",
       "      <td>73.895485</td>\n",
       "      <td>86.279104</td>\n",
       "      <td>0.000000</td>\n",
       "      <td>0.000000</td>\n",
       "      <td>22.000000</td>\n",
       "      <td>142.950000</td>\n",
       "      <td>359.400000</td>\n",
       "    </tr>\n",
       "    <tr>\n",
       "      <th>Fly Ash</th>\n",
       "      <td>1030.0</td>\n",
       "      <td>54.187136</td>\n",
       "      <td>63.996469</td>\n",
       "      <td>0.000000</td>\n",
       "      <td>0.000000</td>\n",
       "      <td>0.000000</td>\n",
       "      <td>118.270000</td>\n",
       "      <td>200.100000</td>\n",
       "    </tr>\n",
       "    <tr>\n",
       "      <th>Water</th>\n",
       "      <td>1030.0</td>\n",
       "      <td>181.566359</td>\n",
       "      <td>21.355567</td>\n",
       "      <td>121.750000</td>\n",
       "      <td>164.900000</td>\n",
       "      <td>185.000000</td>\n",
       "      <td>192.000000</td>\n",
       "      <td>247.000000</td>\n",
       "    </tr>\n",
       "    <tr>\n",
       "      <th>Superplasticizer</th>\n",
       "      <td>1030.0</td>\n",
       "      <td>6.203112</td>\n",
       "      <td>5.973492</td>\n",
       "      <td>0.000000</td>\n",
       "      <td>0.000000</td>\n",
       "      <td>6.350000</td>\n",
       "      <td>10.160000</td>\n",
       "      <td>32.200000</td>\n",
       "    </tr>\n",
       "    <tr>\n",
       "      <th>Coarse Aggregate</th>\n",
       "      <td>1030.0</td>\n",
       "      <td>972.918592</td>\n",
       "      <td>77.753818</td>\n",
       "      <td>801.000000</td>\n",
       "      <td>932.000000</td>\n",
       "      <td>968.000000</td>\n",
       "      <td>1029.400000</td>\n",
       "      <td>1145.000000</td>\n",
       "    </tr>\n",
       "    <tr>\n",
       "      <th>Fine Aggregate</th>\n",
       "      <td>1030.0</td>\n",
       "      <td>773.578883</td>\n",
       "      <td>80.175427</td>\n",
       "      <td>594.000000</td>\n",
       "      <td>730.950000</td>\n",
       "      <td>779.510000</td>\n",
       "      <td>824.000000</td>\n",
       "      <td>992.600000</td>\n",
       "    </tr>\n",
       "    <tr>\n",
       "      <th>Age</th>\n",
       "      <td>1030.0</td>\n",
       "      <td>45.662136</td>\n",
       "      <td>63.169912</td>\n",
       "      <td>1.000000</td>\n",
       "      <td>7.000000</td>\n",
       "      <td>28.000000</td>\n",
       "      <td>56.000000</td>\n",
       "      <td>365.000000</td>\n",
       "    </tr>\n",
       "    <tr>\n",
       "      <th>CCS</th>\n",
       "      <td>1030.0</td>\n",
       "      <td>35.817836</td>\n",
       "      <td>16.705679</td>\n",
       "      <td>2.331808</td>\n",
       "      <td>23.707115</td>\n",
       "      <td>34.442774</td>\n",
       "      <td>46.136287</td>\n",
       "      <td>82.599225</td>\n",
       "    </tr>\n",
       "  </tbody>\n",
       "</table>\n",
       "</div>"
      ],
      "text/plain": [
       "                      count        mean         std         min         25%  \\\n",
       "Cement               1030.0  281.165631  104.507142  102.000000  192.375000   \n",
       "Blast Furnace Slag   1030.0   73.895485   86.279104    0.000000    0.000000   \n",
       "Fly Ash              1030.0   54.187136   63.996469    0.000000    0.000000   \n",
       "Water                1030.0  181.566359   21.355567  121.750000  164.900000   \n",
       "Superplasticizer     1030.0    6.203112    5.973492    0.000000    0.000000   \n",
       "Coarse Aggregate     1030.0  972.918592   77.753818  801.000000  932.000000   \n",
       "Fine Aggregate       1030.0  773.578883   80.175427  594.000000  730.950000   \n",
       "Age                  1030.0   45.662136   63.169912    1.000000    7.000000   \n",
       "CCS                  1030.0   35.817836   16.705679    2.331808   23.707115   \n",
       "\n",
       "                            50%          75%          max  \n",
       "Cement               272.900000   350.000000   540.000000  \n",
       "Blast Furnace Slag    22.000000   142.950000   359.400000  \n",
       "Fly Ash                0.000000   118.270000   200.100000  \n",
       "Water                185.000000   192.000000   247.000000  \n",
       "Superplasticizer       6.350000    10.160000    32.200000  \n",
       "Coarse Aggregate     968.000000  1029.400000  1145.000000  \n",
       "Fine Aggregate       779.510000   824.000000   992.600000  \n",
       "Age                   28.000000    56.000000   365.000000  \n",
       "CCS                   34.442774    46.136287    82.599225  "
      ]
     },
     "execution_count": 4,
     "metadata": {},
     "output_type": "execute_result"
    }
   ],
   "source": [
    "data.describe().T"
   ]
  },
  {
   "cell_type": "markdown",
   "id": "a74085d5-b32d-4166-be24-eb36a1a9c65c",
   "metadata": {},
   "source": [
    "<div style=\"background-color: #ccf2ff; padding: 10px;\">\n",
    "\n",
    "### **Inferences from the Concrete Dataset**\n",
    "\n",
    "1. **Cement**  \n",
    "   - Mean: ~281.2 kg/m³, Range: 102 to 540 kg/m³.  \n",
    "   - Significant variation, indicating diverse concrete mixes.\n",
    "\n",
    "2. **Blast Furnace Slag**  \n",
    "   - Mean: ~73.9 kg/m³, Std: ~86.3.  \n",
    "   - Many samples have no slag (25th percentile = 0).\n",
    "\n",
    "3. **Fly Ash**  \n",
    "   - Mean: ~54.2 kg/m³, Std: ~64.  \n",
    "   - Half of the samples have no fly ash (Median = 0).\n",
    "\n",
    "4. **Water**  \n",
    "   - Mean: ~181.6 kg/m³, Std: ~21.4.  \n",
    "   - Uniform water content across most samples.\n",
    "\n",
    "5. **Superplasticizer**  \n",
    "   - Mean: ~6.2 kg/m³, Std: ~6.  \n",
    "   - High variation; many samples contain none (25th percentile = 0).\n",
    "\n",
    "6. **Coarse Aggregate**  \n",
    "   - Mean: ~972.9 kg/m³, Std: ~77.8.  \n",
    "   - Stable component in concrete mixes.\n",
    "\n",
    "7. **Fine Aggregate**  \n",
    "   - Mean: ~773.6 kg/m³, Std: ~80.2.  \n",
    "   - Complements coarse aggregate in stability.\n",
    "\n",
    "8. **Age**  \n",
    "   - Mean: ~45.7 days, Range: 1 to 365 days.  \n",
    "   - Curing times vary significantly.\n",
    "\n",
    "9. **Compressive Strength (CCS)**  \n",
    "   - Mean: ~35.8 MPa, Range: 2.3 to 82.6 MPa.  \n",
    "   - Indicates a wide range of concrete strengths in the dataset."
   ]
  },
  {
   "cell_type": "markdown",
   "id": "04aca690-7871-4400-ad5c-5a4b29150f17",
   "metadata": {},
   "source": [
    "### ***`Correlation Plot`***"
   ]
  },
  {
   "cell_type": "code",
   "execution_count": 5,
   "id": "adfe92d8-e66c-423e-805c-7be895c0d75b",
   "metadata": {},
   "outputs": [
    {
     "data": {
      "image/png": "[encoded data removed]",
      "text/plain": [
       "<Figure size 640x480 with 2 Axes>"
      ]
     },
     "metadata": {},
     "output_type": "display_data"
    }
   ],
   "source": [
    "sns.heatmap(data.corr(),annot=True,vmax=1,vmin=-1,mask=np.triu(data.corr()))\n",
    "plt.show()"
   ]
  },
  {
   "cell_type": "markdown",
   "id": "5c13ad7e-c17b-4954-aa79-6e7884c39bda",
   "metadata": {},
   "source": [
    "<div style=\"background-color: #ccf2ff; padding: 10px;\">\n",
    "\n",
    "### **Inferences for High Positive or High Negative Correlations**\n",
    "\n",
    "1. **Water and Superplasticizer**  \n",
    "   - Strong negative correlation (-0.657).  \n",
    "   - Higher use of superplasticizer significantly reduces the water requirement in the mix.\n",
    "\n",
    "2. **Cement and CCS**  \n",
    "   - Strong positive correlation (0.498).  \n",
    "   - Higher cement content significantly increases compressive strength.\n",
    "\n",
    "3. **Superplasticizer and CCS**  \n",
    "   - Moderate positive correlation (0.366).  \n",
    "   - Superplasticizer enhances compressive strength by improving workability and reducing water content."
   ]
  },
  {
   "cell_type": "markdown",
   "id": "c7dbf101-7ee6-41c7-9b3f-5e9d64d9b17c",
   "metadata": {},
   "source": [
    "## ***`Treat the Defects`***"
   ]
  },
  {
   "cell_type": "code",
   "execution_count": 6,
   "id": "37b3d334-9719-46ec-ad50-994539a6186c",
   "metadata": {},
   "outputs": [
    {
     "data": {
      "text/plain": [
       "Cement                 0\n",
       "Blast Furnace Slag     0\n",
       "Fly Ash                0\n",
       "Water                  0\n",
       "Superplasticizer       0\n",
       "Coarse Aggregate       0\n",
       "Fine Aggregate         0\n",
       "Age                    0\n",
       "CCS                    0\n",
       "dtype: int64"
      ]
     },
     "execution_count": 6,
     "metadata": {},
     "output_type": "execute_result"
    }
   ],
   "source": [
    "# Missing Values\n",
    "data.isnull().sum()"
   ]
  },
  {
   "cell_type": "code",
   "execution_count": 7,
   "id": "74d6c64d-ff15-42f9-8e08-64aa372ee4c1",
   "metadata": {},
   "outputs": [
    {
     "data": {
      "text/html": [
       "<div>\n",
       "<style scoped>\n",
       "    .dataframe tbody tr th:only-of-type {\n",
       "        vertical-align: middle;\n",
       "    }\n",
       "\n",
       "    .dataframe tbody tr th {\n",
       "        vertical-align: top;\n",
       "    }\n",
       "\n",
       "    .dataframe thead th {\n",
       "        text-align: right;\n",
       "    }\n",
       "</style>\n",
       "<table border=\"1\" class=\"dataframe\">\n",
       "  <thead>\n",
       "    <tr style=\"text-align: right;\">\n",
       "      <th></th>\n",
       "      <th>Cement</th>\n",
       "      <th>Blast Furnace Slag</th>\n",
       "      <th>Fly Ash</th>\n",
       "      <th>Water</th>\n",
       "      <th>Superplasticizer</th>\n",
       "      <th>Coarse Aggregate</th>\n",
       "      <th>Fine Aggregate</th>\n",
       "      <th>Age</th>\n",
       "      <th>CCS</th>\n",
       "    </tr>\n",
       "  </thead>\n",
       "  <tbody>\n",
       "    <tr>\n",
       "      <th>77</th>\n",
       "      <td>425.0</td>\n",
       "      <td>106.3</td>\n",
       "      <td>0.0</td>\n",
       "      <td>153.5</td>\n",
       "      <td>16.5</td>\n",
       "      <td>852.1</td>\n",
       "      <td>887.1</td>\n",
       "      <td>3</td>\n",
       "      <td>33.398217</td>\n",
       "    </tr>\n",
       "    <tr>\n",
       "      <th>80</th>\n",
       "      <td>425.0</td>\n",
       "      <td>106.3</td>\n",
       "      <td>0.0</td>\n",
       "      <td>153.5</td>\n",
       "      <td>16.5</td>\n",
       "      <td>852.1</td>\n",
       "      <td>887.1</td>\n",
       "      <td>3</td>\n",
       "      <td>33.398217</td>\n",
       "    </tr>\n",
       "    <tr>\n",
       "      <th>86</th>\n",
       "      <td>362.6</td>\n",
       "      <td>189.0</td>\n",
       "      <td>0.0</td>\n",
       "      <td>164.9</td>\n",
       "      <td>11.6</td>\n",
       "      <td>944.7</td>\n",
       "      <td>755.8</td>\n",
       "      <td>3</td>\n",
       "      <td>35.301171</td>\n",
       "    </tr>\n",
       "    <tr>\n",
       "      <th>88</th>\n",
       "      <td>362.6</td>\n",
       "      <td>189.0</td>\n",
       "      <td>0.0</td>\n",
       "      <td>164.9</td>\n",
       "      <td>11.6</td>\n",
       "      <td>944.7</td>\n",
       "      <td>755.8</td>\n",
       "      <td>3</td>\n",
       "      <td>35.301171</td>\n",
       "    </tr>\n",
       "    <tr>\n",
       "      <th>91</th>\n",
       "      <td>362.6</td>\n",
       "      <td>189.0</td>\n",
       "      <td>0.0</td>\n",
       "      <td>164.9</td>\n",
       "      <td>11.6</td>\n",
       "      <td>944.7</td>\n",
       "      <td>755.8</td>\n",
       "      <td>3</td>\n",
       "      <td>35.301171</td>\n",
       "    </tr>\n",
       "    <tr>\n",
       "      <th>100</th>\n",
       "      <td>425.0</td>\n",
       "      <td>106.3</td>\n",
       "      <td>0.0</td>\n",
       "      <td>153.5</td>\n",
       "      <td>16.5</td>\n",
       "      <td>852.1</td>\n",
       "      <td>887.1</td>\n",
       "      <td>7</td>\n",
       "      <td>49.201007</td>\n",
       "    </tr>\n",
       "    <tr>\n",
       "      <th>103</th>\n",
       "      <td>425.0</td>\n",
       "      <td>106.3</td>\n",
       "      <td>0.0</td>\n",
       "      <td>153.5</td>\n",
       "      <td>16.5</td>\n",
       "      <td>852.1</td>\n",
       "      <td>887.1</td>\n",
       "      <td>7</td>\n",
       "      <td>49.201007</td>\n",
       "    </tr>\n",
       "    <tr>\n",
       "      <th>109</th>\n",
       "      <td>362.6</td>\n",
       "      <td>189.0</td>\n",
       "      <td>0.0</td>\n",
       "      <td>164.9</td>\n",
       "      <td>11.6</td>\n",
       "      <td>944.7</td>\n",
       "      <td>755.8</td>\n",
       "      <td>7</td>\n",
       "      <td>55.895819</td>\n",
       "    </tr>\n",
       "    <tr>\n",
       "      <th>111</th>\n",
       "      <td>362.6</td>\n",
       "      <td>189.0</td>\n",
       "      <td>0.0</td>\n",
       "      <td>164.9</td>\n",
       "      <td>11.6</td>\n",
       "      <td>944.7</td>\n",
       "      <td>755.8</td>\n",
       "      <td>7</td>\n",
       "      <td>55.895819</td>\n",
       "    </tr>\n",
       "    <tr>\n",
       "      <th>123</th>\n",
       "      <td>425.0</td>\n",
       "      <td>106.3</td>\n",
       "      <td>0.0</td>\n",
       "      <td>153.5</td>\n",
       "      <td>16.5</td>\n",
       "      <td>852.1</td>\n",
       "      <td>887.1</td>\n",
       "      <td>28</td>\n",
       "      <td>60.294676</td>\n",
       "    </tr>\n",
       "    <tr>\n",
       "      <th>126</th>\n",
       "      <td>425.0</td>\n",
       "      <td>106.3</td>\n",
       "      <td>0.0</td>\n",
       "      <td>153.5</td>\n",
       "      <td>16.5</td>\n",
       "      <td>852.1</td>\n",
       "      <td>887.1</td>\n",
       "      <td>28</td>\n",
       "      <td>60.294676</td>\n",
       "    </tr>\n",
       "    <tr>\n",
       "      <th>132</th>\n",
       "      <td>362.6</td>\n",
       "      <td>189.0</td>\n",
       "      <td>0.0</td>\n",
       "      <td>164.9</td>\n",
       "      <td>11.6</td>\n",
       "      <td>944.7</td>\n",
       "      <td>755.8</td>\n",
       "      <td>28</td>\n",
       "      <td>71.298713</td>\n",
       "    </tr>\n",
       "    <tr>\n",
       "      <th>134</th>\n",
       "      <td>362.6</td>\n",
       "      <td>189.0</td>\n",
       "      <td>0.0</td>\n",
       "      <td>164.9</td>\n",
       "      <td>11.6</td>\n",
       "      <td>944.7</td>\n",
       "      <td>755.8</td>\n",
       "      <td>28</td>\n",
       "      <td>71.298713</td>\n",
       "    </tr>\n",
       "    <tr>\n",
       "      <th>137</th>\n",
       "      <td>362.6</td>\n",
       "      <td>189.0</td>\n",
       "      <td>0.0</td>\n",
       "      <td>164.9</td>\n",
       "      <td>11.6</td>\n",
       "      <td>944.7</td>\n",
       "      <td>755.8</td>\n",
       "      <td>28</td>\n",
       "      <td>71.298713</td>\n",
       "    </tr>\n",
       "    <tr>\n",
       "      <th>146</th>\n",
       "      <td>425.0</td>\n",
       "      <td>106.3</td>\n",
       "      <td>0.0</td>\n",
       "      <td>153.5</td>\n",
       "      <td>16.5</td>\n",
       "      <td>852.1</td>\n",
       "      <td>887.1</td>\n",
       "      <td>56</td>\n",
       "      <td>64.300532</td>\n",
       "    </tr>\n",
       "    <tr>\n",
       "      <th>149</th>\n",
       "      <td>425.0</td>\n",
       "      <td>106.3</td>\n",
       "      <td>0.0</td>\n",
       "      <td>153.5</td>\n",
       "      <td>16.5</td>\n",
       "      <td>852.1</td>\n",
       "      <td>887.1</td>\n",
       "      <td>56</td>\n",
       "      <td>64.300532</td>\n",
       "    </tr>\n",
       "    <tr>\n",
       "      <th>155</th>\n",
       "      <td>362.6</td>\n",
       "      <td>189.0</td>\n",
       "      <td>0.0</td>\n",
       "      <td>164.9</td>\n",
       "      <td>11.6</td>\n",
       "      <td>944.7</td>\n",
       "      <td>755.8</td>\n",
       "      <td>56</td>\n",
       "      <td>77.297154</td>\n",
       "    </tr>\n",
       "    <tr>\n",
       "      <th>157</th>\n",
       "      <td>362.6</td>\n",
       "      <td>189.0</td>\n",
       "      <td>0.0</td>\n",
       "      <td>164.9</td>\n",
       "      <td>11.6</td>\n",
       "      <td>944.7</td>\n",
       "      <td>755.8</td>\n",
       "      <td>56</td>\n",
       "      <td>77.297154</td>\n",
       "    </tr>\n",
       "    <tr>\n",
       "      <th>160</th>\n",
       "      <td>362.6</td>\n",
       "      <td>189.0</td>\n",
       "      <td>0.0</td>\n",
       "      <td>164.9</td>\n",
       "      <td>11.6</td>\n",
       "      <td>944.7</td>\n",
       "      <td>755.8</td>\n",
       "      <td>56</td>\n",
       "      <td>77.297154</td>\n",
       "    </tr>\n",
       "    <tr>\n",
       "      <th>169</th>\n",
       "      <td>425.0</td>\n",
       "      <td>106.3</td>\n",
       "      <td>0.0</td>\n",
       "      <td>153.5</td>\n",
       "      <td>16.5</td>\n",
       "      <td>852.1</td>\n",
       "      <td>887.1</td>\n",
       "      <td>91</td>\n",
       "      <td>65.196851</td>\n",
       "    </tr>\n",
       "    <tr>\n",
       "      <th>172</th>\n",
       "      <td>425.0</td>\n",
       "      <td>106.3</td>\n",
       "      <td>0.0</td>\n",
       "      <td>153.5</td>\n",
       "      <td>16.5</td>\n",
       "      <td>852.1</td>\n",
       "      <td>887.1</td>\n",
       "      <td>91</td>\n",
       "      <td>65.196851</td>\n",
       "    </tr>\n",
       "    <tr>\n",
       "      <th>177</th>\n",
       "      <td>362.6</td>\n",
       "      <td>189.0</td>\n",
       "      <td>0.0</td>\n",
       "      <td>164.9</td>\n",
       "      <td>11.6</td>\n",
       "      <td>944.7</td>\n",
       "      <td>755.8</td>\n",
       "      <td>91</td>\n",
       "      <td>79.296635</td>\n",
       "    </tr>\n",
       "    <tr>\n",
       "      <th>179</th>\n",
       "      <td>362.6</td>\n",
       "      <td>189.0</td>\n",
       "      <td>0.0</td>\n",
       "      <td>164.9</td>\n",
       "      <td>11.6</td>\n",
       "      <td>944.7</td>\n",
       "      <td>755.8</td>\n",
       "      <td>91</td>\n",
       "      <td>79.296635</td>\n",
       "    </tr>\n",
       "    <tr>\n",
       "      <th>182</th>\n",
       "      <td>362.6</td>\n",
       "      <td>189.0</td>\n",
       "      <td>0.0</td>\n",
       "      <td>164.9</td>\n",
       "      <td>11.6</td>\n",
       "      <td>944.7</td>\n",
       "      <td>755.8</td>\n",
       "      <td>91</td>\n",
       "      <td>79.296635</td>\n",
       "    </tr>\n",
       "    <tr>\n",
       "      <th>809</th>\n",
       "      <td>252.0</td>\n",
       "      <td>0.0</td>\n",
       "      <td>0.0</td>\n",
       "      <td>185.0</td>\n",
       "      <td>0.0</td>\n",
       "      <td>1111.0</td>\n",
       "      <td>784.0</td>\n",
       "      <td>28</td>\n",
       "      <td>19.691435</td>\n",
       "    </tr>\n",
       "  </tbody>\n",
       "</table>\n",
       "</div>"
      ],
      "text/plain": [
       "     Cement   Blast Furnace Slag   Fly Ash   Water  Superplasticizer  \\\n",
       "77     425.0                106.3       0.0  153.5              16.5   \n",
       "80     425.0                106.3       0.0  153.5              16.5   \n",
       "86     362.6                189.0       0.0  164.9              11.6   \n",
       "88     362.6                189.0       0.0  164.9              11.6   \n",
       "91     362.6                189.0       0.0  164.9              11.6   \n",
       "100    425.0                106.3       0.0  153.5              16.5   \n",
       "103    425.0                106.3       0.0  153.5              16.5   \n",
       "109    362.6                189.0       0.0  164.9              11.6   \n",
       "111    362.6                189.0       0.0  164.9              11.6   \n",
       "123    425.0                106.3       0.0  153.5              16.5   \n",
       "126    425.0                106.3       0.0  153.5              16.5   \n",
       "132    362.6                189.0       0.0  164.9              11.6   \n",
       "134    362.6                189.0       0.0  164.9              11.6   \n",
       "137    362.6                189.0       0.0  164.9              11.6   \n",
       "146    425.0                106.3       0.0  153.5              16.5   \n",
       "149    425.0                106.3       0.0  153.5              16.5   \n",
       "155    362.6                189.0       0.0  164.9              11.6   \n",
       "157    362.6                189.0       0.0  164.9              11.6   \n",
       "160    362.6                189.0       0.0  164.9              11.6   \n",
       "169    425.0                106.3       0.0  153.5              16.5   \n",
       "172    425.0                106.3       0.0  153.5              16.5   \n",
       "177    362.6                189.0       0.0  164.9              11.6   \n",
       "179    362.6                189.0       0.0  164.9              11.6   \n",
       "182    362.6                189.0       0.0  164.9              11.6   \n",
       "809    252.0                  0.0       0.0  185.0               0.0   \n",
       "\n",
       "     Coarse Aggregate    Fine Aggregate   Age         CCS  \n",
       "77                852.1            887.1     3  33.398217  \n",
       "80                852.1            887.1     3  33.398217  \n",
       "86                944.7            755.8     3  35.301171  \n",
       "88                944.7            755.8     3  35.301171  \n",
       "91                944.7            755.8     3  35.301171  \n",
       "100               852.1            887.1     7  49.201007  \n",
       "103               852.1            887.1     7  49.201007  \n",
       "109               944.7            755.8     7  55.895819  \n",
       "111               944.7            755.8     7  55.895819  \n",
       "123               852.1            887.1    28  60.294676  \n",
       "126               852.1            887.1    28  60.294676  \n",
       "132               944.7            755.8    28  71.298713  \n",
       "134               944.7            755.8    28  71.298713  \n",
       "137               944.7            755.8    28  71.298713  \n",
       "146               852.1            887.1    56  64.300532  \n",
       "149               852.1            887.1    56  64.300532  \n",
       "155               944.7            755.8    56  77.297154  \n",
       "157               944.7            755.8    56  77.297154  \n",
       "160               944.7            755.8    56  77.297154  \n",
       "169               852.1            887.1    91  65.196851  \n",
       "172               852.1            887.1    91  65.196851  \n",
       "177               944.7            755.8    91  79.296635  \n",
       "179               944.7            755.8    91  79.296635  \n",
       "182               944.7            755.8    91  79.296635  \n",
       "809              1111.0            784.0    28  19.691435  "
      ]
     },
     "execution_count": 7,
     "metadata": {},
     "output_type": "execute_result"
    }
   ],
   "source": [
    "# Duplicate Rows\n",
    "data[data.duplicated()]"
   ]
  },
  {
   "cell_type": "code",
   "execution_count": 8,
   "id": "a02f31c1-2ddb-4444-9086-3dd27002c1f9",
   "metadata": {},
   "outputs": [],
   "source": [
    "# Dropping Duplicate Values\n",
    "data.drop_duplicates(inplace=True)"
   ]
  },
  {
   "cell_type": "code",
   "execution_count": 9,
   "id": "940182cf-ccf6-407b-9490-52b6f332665d",
   "metadata": {},
   "outputs": [
    {
     "data": {
      "text/html": [
       "<div>\n",
       "<style scoped>\n",
       "    .dataframe tbody tr th:only-of-type {\n",
       "        vertical-align: middle;\n",
       "    }\n",
       "\n",
       "    .dataframe tbody tr th {\n",
       "        vertical-align: top;\n",
       "    }\n",
       "\n",
       "    .dataframe thead th {\n",
       "        text-align: right;\n",
       "    }\n",
       "</style>\n",
       "<table border=\"1\" class=\"dataframe\">\n",
       "  <thead>\n",
       "    <tr style=\"text-align: right;\">\n",
       "      <th></th>\n",
       "      <th>Cement</th>\n",
       "      <th>Blast Furnace Slag</th>\n",
       "      <th>Fly Ash</th>\n",
       "      <th>Water</th>\n",
       "      <th>Superplasticizer</th>\n",
       "      <th>Coarse Aggregate</th>\n",
       "      <th>Fine Aggregate</th>\n",
       "      <th>Age</th>\n",
       "      <th>CCS</th>\n",
       "    </tr>\n",
       "  </thead>\n",
       "  <tbody>\n",
       "    <tr>\n",
       "      <th>0</th>\n",
       "      <td>540.0</td>\n",
       "      <td>0.0</td>\n",
       "      <td>0.0</td>\n",
       "      <td>162.0</td>\n",
       "      <td>2.5</td>\n",
       "      <td>1040.0</td>\n",
       "      <td>676.0</td>\n",
       "      <td>28</td>\n",
       "      <td>79.986111</td>\n",
       "    </tr>\n",
       "    <tr>\n",
       "      <th>1</th>\n",
       "      <td>540.0</td>\n",
       "      <td>0.0</td>\n",
       "      <td>0.0</td>\n",
       "      <td>162.0</td>\n",
       "      <td>2.5</td>\n",
       "      <td>1055.0</td>\n",
       "      <td>676.0</td>\n",
       "      <td>28</td>\n",
       "      <td>61.887366</td>\n",
       "    </tr>\n",
       "    <tr>\n",
       "      <th>2</th>\n",
       "      <td>332.5</td>\n",
       "      <td>142.5</td>\n",
       "      <td>0.0</td>\n",
       "      <td>228.0</td>\n",
       "      <td>0.0</td>\n",
       "      <td>932.0</td>\n",
       "      <td>594.0</td>\n",
       "      <td>270</td>\n",
       "      <td>40.269535</td>\n",
       "    </tr>\n",
       "    <tr>\n",
       "      <th>3</th>\n",
       "      <td>332.5</td>\n",
       "      <td>142.5</td>\n",
       "      <td>0.0</td>\n",
       "      <td>228.0</td>\n",
       "      <td>0.0</td>\n",
       "      <td>932.0</td>\n",
       "      <td>594.0</td>\n",
       "      <td>365</td>\n",
       "      <td>41.052780</td>\n",
       "    </tr>\n",
       "    <tr>\n",
       "      <th>4</th>\n",
       "      <td>198.6</td>\n",
       "      <td>132.4</td>\n",
       "      <td>0.0</td>\n",
       "      <td>192.0</td>\n",
       "      <td>0.0</td>\n",
       "      <td>978.4</td>\n",
       "      <td>825.5</td>\n",
       "      <td>360</td>\n",
       "      <td>44.296075</td>\n",
       "    </tr>\n",
       "    <tr>\n",
       "      <th>...</th>\n",
       "      <td>...</td>\n",
       "      <td>...</td>\n",
       "      <td>...</td>\n",
       "      <td>...</td>\n",
       "      <td>...</td>\n",
       "      <td>...</td>\n",
       "      <td>...</td>\n",
       "      <td>...</td>\n",
       "      <td>...</td>\n",
       "    </tr>\n",
       "    <tr>\n",
       "      <th>1025</th>\n",
       "      <td>276.4</td>\n",
       "      <td>116.0</td>\n",
       "      <td>90.3</td>\n",
       "      <td>179.6</td>\n",
       "      <td>8.9</td>\n",
       "      <td>870.1</td>\n",
       "      <td>768.3</td>\n",
       "      <td>28</td>\n",
       "      <td>44.284354</td>\n",
       "    </tr>\n",
       "    <tr>\n",
       "      <th>1026</th>\n",
       "      <td>322.2</td>\n",
       "      <td>0.0</td>\n",
       "      <td>115.6</td>\n",
       "      <td>196.0</td>\n",
       "      <td>10.4</td>\n",
       "      <td>817.9</td>\n",
       "      <td>813.4</td>\n",
       "      <td>28</td>\n",
       "      <td>31.178794</td>\n",
       "    </tr>\n",
       "    <tr>\n",
       "      <th>1027</th>\n",
       "      <td>148.5</td>\n",
       "      <td>139.4</td>\n",
       "      <td>108.6</td>\n",
       "      <td>192.7</td>\n",
       "      <td>6.1</td>\n",
       "      <td>892.4</td>\n",
       "      <td>780.0</td>\n",
       "      <td>28</td>\n",
       "      <td>23.696601</td>\n",
       "    </tr>\n",
       "    <tr>\n",
       "      <th>1028</th>\n",
       "      <td>159.1</td>\n",
       "      <td>186.7</td>\n",
       "      <td>0.0</td>\n",
       "      <td>175.6</td>\n",
       "      <td>11.3</td>\n",
       "      <td>989.6</td>\n",
       "      <td>788.9</td>\n",
       "      <td>28</td>\n",
       "      <td>32.768036</td>\n",
       "    </tr>\n",
       "    <tr>\n",
       "      <th>1029</th>\n",
       "      <td>260.9</td>\n",
       "      <td>100.5</td>\n",
       "      <td>78.3</td>\n",
       "      <td>200.6</td>\n",
       "      <td>8.6</td>\n",
       "      <td>864.5</td>\n",
       "      <td>761.5</td>\n",
       "      <td>28</td>\n",
       "      <td>32.401235</td>\n",
       "    </tr>\n",
       "  </tbody>\n",
       "</table>\n",
       "<p>1005 rows × 9 columns</p>\n",
       "</div>"
      ],
      "text/plain": [
       "      Cement   Blast Furnace Slag   Fly Ash   Water  Superplasticizer  \\\n",
       "0       540.0                  0.0       0.0  162.0               2.5   \n",
       "1       540.0                  0.0       0.0  162.0               2.5   \n",
       "2       332.5                142.5       0.0  228.0               0.0   \n",
       "3       332.5                142.5       0.0  228.0               0.0   \n",
       "4       198.6                132.4       0.0  192.0               0.0   \n",
       "...       ...                  ...       ...    ...               ...   \n",
       "1025    276.4                116.0      90.3  179.6               8.9   \n",
       "1026    322.2                  0.0     115.6  196.0              10.4   \n",
       "1027    148.5                139.4     108.6  192.7               6.1   \n",
       "1028    159.1                186.7       0.0  175.6              11.3   \n",
       "1029    260.9                100.5      78.3  200.6               8.6   \n",
       "\n",
       "      Coarse Aggregate    Fine Aggregate   Age         CCS  \n",
       "0                 1040.0            676.0    28  79.986111  \n",
       "1                 1055.0            676.0    28  61.887366  \n",
       "2                  932.0            594.0   270  40.269535  \n",
       "3                  932.0            594.0   365  41.052780  \n",
       "4                  978.4            825.5   360  44.296075  \n",
       "...                  ...              ...   ...        ...  \n",
       "1025               870.1            768.3    28  44.284354  \n",
       "1026               817.9            813.4    28  31.178794  \n",
       "1027               892.4            780.0    28  23.696601  \n",
       "1028               989.6            788.9    28  32.768036  \n",
       "1029               864.5            761.5    28  32.401235  \n",
       "\n",
       "[1005 rows x 9 columns]"
      ]
     },
     "execution_count": 9,
     "metadata": {},
     "output_type": "execute_result"
    }
   ],
   "source": [
    "data"
   ]
  },
  {
   "cell_type": "code",
   "execution_count": 10,
   "id": "1326c632-ced6-4aae-935e-3cff99305353",
   "metadata": {},
   "outputs": [
    {
     "data": {
      "image/png": "[encoded data removed]",
      "text/plain": [
       "<Figure size 1000x1700 with 9 Axes>"
      ]
     },
     "metadata": {},
     "output_type": "display_data"
    }
   ],
   "source": [
    "# Checking Outliers\n",
    "t = 1\n",
    "plt.figure(figsize=(10,17))\n",
    "for i in data.columns:\n",
    "    plt.subplot(5,2,t)\n",
    "    sns.boxplot(x=data[i])\n",
    "    t += 1\n",
    "plt.tight_layout()\n",
    "plt.show()"
   ]
  },
  {
   "cell_type": "code",
   "execution_count": 11,
   "id": "8b637d97-e0b4-4f51-868c-a7f412ef0423",
   "metadata": {},
   "outputs": [],
   "source": [
    "# Capping the Outliers\n",
    "for i in data.columns:\n",
    "    q1 = np.percentile(data[i],25)\n",
    "    q3 = np.percentile(data[i],75)\n",
    "    iqr = q3 - q1\n",
    "    ll = q1 - 1.5*iqr\n",
    "    ul = q3 + 1.5*iqr\n",
    "    data[i] = data[i].apply(lambda x: ll if x < ll else ul if x > ul else x)"
   ]
  },
  {
   "cell_type": "code",
   "execution_count": 12,
   "id": "28495b95-99fa-4f57-a66c-3ba014edc90a",
   "metadata": {},
   "outputs": [
    {
     "data": {
      "image/png": "[encoded data removed]",
      "text/plain": [
       "<Figure size 1000x1700 with 9 Axes>"
      ]
     },
     "metadata": {},
     "output_type": "display_data"
    }
   ],
   "source": [
    "t = 1\n",
    "plt.figure(figsize=(10,17))\n",
    "for i in data.columns:\n",
    "    plt.subplot(5,2,t)\n",
    "    sns.boxplot(x=data[i])\n",
    "    t += 1\n",
    "plt.tight_layout()\n",
    "plt.show()"
   ]
  },
  {
   "cell_type": "markdown",
   "id": "c9199f05-6cf3-42e2-8619-aa197747609b",
   "metadata": {},
   "source": [
    "## ***`Linear Regression Analysis`***"
   ]
  },
  {
   "cell_type": "code",
   "execution_count": 13,
   "id": "8e170cb2-f45d-4529-879f-b251997c28b2",
   "metadata": {},
   "outputs": [],
   "source": [
    "# Split\n",
    "y = data['CCS']\n",
    "x = data.drop(columns=['CCS'])"
   ]
  },
  {
   "cell_type": "markdown",
   "id": "d32695f5-9cd9-4e4e-8313-2ff00d118721",
   "metadata": {},
   "source": [
    "## Assumption 1"
   ]
  },
  {
   "cell_type": "raw",
   "id": "c3762907-e277-43ef-b32d-9445bc8e46fb",
   "metadata": {},
   "source": [
    "Target Variable is numeric"
   ]
  },
  {
   "cell_type": "markdown",
   "id": "28172b53-14ca-41b7-97bb-9ec5c65814e7",
   "metadata": {},
   "source": [
    "### Assumption 2: There should be no multicolinearity"
   ]
  },
  {
   "cell_type": "code",
   "execution_count": 14,
   "id": "21bcc712-6ce8-4e80-aecc-9a921446ce22",
   "metadata": {},
   "outputs": [
    {
     "data": {
      "text/html": [
       "<div>\n",
       "<style scoped>\n",
       "    .dataframe tbody tr th:only-of-type {\n",
       "        vertical-align: middle;\n",
       "    }\n",
       "\n",
       "    .dataframe tbody tr th {\n",
       "        vertical-align: top;\n",
       "    }\n",
       "\n",
       "    .dataframe thead th {\n",
       "        text-align: right;\n",
       "    }\n",
       "</style>\n",
       "<table border=\"1\" class=\"dataframe\">\n",
       "  <thead>\n",
       "    <tr style=\"text-align: right;\">\n",
       "      <th></th>\n",
       "      <th>VIF</th>\n",
       "    </tr>\n",
       "  </thead>\n",
       "  <tbody>\n",
       "    <tr>\n",
       "      <th>Cement</th>\n",
       "      <td>14.267535</td>\n",
       "    </tr>\n",
       "    <tr>\n",
       "      <th>Blast Furnace Slag</th>\n",
       "      <td>3.278204</td>\n",
       "    </tr>\n",
       "    <tr>\n",
       "      <th>Fly Ash</th>\n",
       "      <td>4.159872</td>\n",
       "    </tr>\n",
       "    <tr>\n",
       "      <th>Water</th>\n",
       "      <td>72.333537</td>\n",
       "    </tr>\n",
       "    <tr>\n",
       "      <th>Superplasticizer</th>\n",
       "      <td>5.464804</td>\n",
       "    </tr>\n",
       "    <tr>\n",
       "      <th>Fine Aggregate</th>\n",
       "      <td>47.949524</td>\n",
       "    </tr>\n",
       "    <tr>\n",
       "      <th>Age</th>\n",
       "      <td>2.248795</td>\n",
       "    </tr>\n",
       "  </tbody>\n",
       "</table>\n",
       "</div>"
      ],
      "text/plain": [
       "                           VIF\n",
       "Cement               14.267535\n",
       "Blast Furnace Slag    3.278204\n",
       "Fly Ash               4.159872\n",
       "Water                72.333537\n",
       "Superplasticizer      5.464804\n",
       "Fine Aggregate       47.949524\n",
       "Age                   2.248795"
      ]
     },
     "execution_count": 14,
     "metadata": {},
     "output_type": "execute_result"
    }
   ],
   "source": [
    "# VIF\n",
    "x.drop(columns=['Coarse Aggregate  '],inplace=True)\n",
    "vif = []\n",
    "for i in range(x.shape[1]):\n",
    "    vif.append(variance_inflation_factor(x.values,i))\n",
    "\n",
    "vif_data = pd.DataFrame({'VIF':vif},index=x.columns)\n",
    "vif_data"
   ]
  },
  {
   "cell_type": "code",
   "execution_count": 15,
   "id": "351b986d-6974-4110-8e5e-b7f47220479b",
   "metadata": {},
   "outputs": [
    {
     "data": {
      "text/plain": [
       "0.7214599162155249"
      ]
     },
     "execution_count": 15,
     "metadata": {},
     "output_type": "execute_result"
    }
   ],
   "source": [
    "sma.OLS(y,sma.add_constant(x)).fit().rsquared"
   ]
  },
  {
   "cell_type": "code",
   "execution_count": 16,
   "id": "eaedff1a-c75f-472b-aae9-825e72aebdec",
   "metadata": {},
   "outputs": [
    {
     "data": {
      "text/plain": [
       "Index(['Cement ', 'Blast Furnace Slag ', 'Fly Ash ', 'Water',\n",
       "       'Superplasticizer', 'Coarse Aggregate  ', 'Fine Aggregate ', 'Age ',\n",
       "       'CCS'],\n",
       "      dtype='object')"
      ]
     },
     "execution_count": 16,
     "metadata": {},
     "output_type": "execute_result"
    }
   ],
   "source": [
    "data.columns"
   ]
  },
  {
   "cell_type": "code",
   "execution_count": 17,
   "id": "b167835b-79fc-4023-8296-95195e612ecb",
   "metadata": {},
   "outputs": [
    {
     "data": {
      "text/html": [
       "<div>\n",
       "<style scoped>\n",
       "    .dataframe tbody tr th:only-of-type {\n",
       "        vertical-align: middle;\n",
       "    }\n",
       "\n",
       "    .dataframe tbody tr th {\n",
       "        vertical-align: top;\n",
       "    }\n",
       "\n",
       "    .dataframe thead th {\n",
       "        text-align: right;\n",
       "    }\n",
       "</style>\n",
       "<table border=\"1\" class=\"dataframe\">\n",
       "  <thead>\n",
       "    <tr style=\"text-align: right;\">\n",
       "      <th></th>\n",
       "      <th>VIF</th>\n",
       "    </tr>\n",
       "  </thead>\n",
       "  <tbody>\n",
       "    <tr>\n",
       "      <th>Cement</th>\n",
       "      <td>13.954376</td>\n",
       "    </tr>\n",
       "    <tr>\n",
       "      <th>Blast Furnace Slag</th>\n",
       "      <td>2.991824</td>\n",
       "    </tr>\n",
       "    <tr>\n",
       "      <th>Fly Ash</th>\n",
       "      <td>4.068454</td>\n",
       "    </tr>\n",
       "    <tr>\n",
       "      <th>Water</th>\n",
       "      <td>21.626638</td>\n",
       "    </tr>\n",
       "    <tr>\n",
       "      <th>Superplasticizer</th>\n",
       "      <td>3.918141</td>\n",
       "    </tr>\n",
       "    <tr>\n",
       "      <th>Age</th>\n",
       "      <td>2.234706</td>\n",
       "    </tr>\n",
       "  </tbody>\n",
       "</table>\n",
       "</div>"
      ],
      "text/plain": [
       "                           VIF\n",
       "Cement               13.954376\n",
       "Blast Furnace Slag    2.991824\n",
       "Fly Ash               4.068454\n",
       "Water                21.626638\n",
       "Superplasticizer      3.918141\n",
       "Age                   2.234706"
      ]
     },
     "execution_count": 17,
     "metadata": {},
     "output_type": "execute_result"
    }
   ],
   "source": [
    "# VIF\n",
    "x.drop(columns=['Fine Aggregate '],inplace=True)\n",
    "vif = []\n",
    "for i in range(x.shape[1]):\n",
    "    vif.append(variance_inflation_factor(x.values,i))\n",
    "\n",
    "vif_data = pd.DataFrame({'VIF':vif},index=x.columns)\n",
    "vif_data"
   ]
  },
  {
   "cell_type": "code",
   "execution_count": 18,
   "id": "f6f99e80-9520-4e03-9671-f8824f8bdb77",
   "metadata": {},
   "outputs": [
    {
     "data": {
      "text/plain": [
       "0.7214079179608108"
      ]
     },
     "execution_count": 18,
     "metadata": {},
     "output_type": "execute_result"
    }
   ],
   "source": [
    "sma.OLS(y,sma.add_constant(x)).fit().rsquared"
   ]
  },
  {
   "cell_type": "code",
   "execution_count": 19,
   "id": "16d00be2-cee4-4e39-acc7-20385ebbbdce",
   "metadata": {},
   "outputs": [],
   "source": [
    "x['Cement Water Ratio'] = x['Cement ']/x['Water']\n",
    "x.drop(columns=['Cement ','Water'],inplace=True)"
   ]
  },
  {
   "cell_type": "code",
   "execution_count": 20,
   "id": "95130c38-e5ec-430b-865a-d1876a9b8620",
   "metadata": {},
   "outputs": [
    {
     "data": {
      "text/html": [
       "<div>\n",
       "<style scoped>\n",
       "    .dataframe tbody tr th:only-of-type {\n",
       "        vertical-align: middle;\n",
       "    }\n",
       "\n",
       "    .dataframe tbody tr th {\n",
       "        vertical-align: top;\n",
       "    }\n",
       "\n",
       "    .dataframe thead th {\n",
       "        text-align: right;\n",
       "    }\n",
       "</style>\n",
       "<table border=\"1\" class=\"dataframe\">\n",
       "  <thead>\n",
       "    <tr style=\"text-align: right;\">\n",
       "      <th></th>\n",
       "      <th>VIF</th>\n",
       "    </tr>\n",
       "  </thead>\n",
       "  <tbody>\n",
       "    <tr>\n",
       "      <th>Blast Furnace Slag</th>\n",
       "      <td>1.484503</td>\n",
       "    </tr>\n",
       "    <tr>\n",
       "      <th>Fly Ash</th>\n",
       "      <td>2.115637</td>\n",
       "    </tr>\n",
       "    <tr>\n",
       "      <th>Superplasticizer</th>\n",
       "      <td>3.478069</td>\n",
       "    </tr>\n",
       "    <tr>\n",
       "      <th>Age</th>\n",
       "      <td>1.970481</td>\n",
       "    </tr>\n",
       "    <tr>\n",
       "      <th>Cement Water Ratio</th>\n",
       "      <td>3.260167</td>\n",
       "    </tr>\n",
       "  </tbody>\n",
       "</table>\n",
       "</div>"
      ],
      "text/plain": [
       "                          VIF\n",
       "Blast Furnace Slag   1.484503\n",
       "Fly Ash              2.115637\n",
       "Superplasticizer     3.478069\n",
       "Age                  1.970481\n",
       "Cement Water Ratio   3.260167"
      ]
     },
     "execution_count": 20,
     "metadata": {},
     "output_type": "execute_result"
    }
   ],
   "source": [
    "vif = []\n",
    "for i in range(x.shape[1]):\n",
    "    vif.append(variance_inflation_factor(x.values,i))\n",
    "\n",
    "vif_data = pd.DataFrame({'VIF':vif},index=x.columns)\n",
    "vif_data"
   ]
  },
  {
   "cell_type": "code",
   "execution_count": 21,
   "id": "02cb8469-d998-4cfb-851a-563c67f958dc",
   "metadata": {},
   "outputs": [
    {
     "data": {
      "text/plain": [
       "0.7117175527539445"
      ]
     },
     "execution_count": 21,
     "metadata": {},
     "output_type": "execute_result"
    }
   ],
   "source": [
    "sma.OLS(y,sma.add_constant(x)).fit().rsquared"
   ]
  },
  {
   "cell_type": "markdown",
   "id": "93b28413-7a41-4a4c-be38-edbf2906811c",
   "metadata": {},
   "source": [
    "# ***`Fit a model`***"
   ]
  },
  {
   "cell_type": "code",
   "execution_count": 25,
   "id": "53a8afbf-775b-463f-817f-b6dbec1bf852",
   "metadata": {},
   "outputs": [],
   "source": [
    "model = sma.OLS(y,sma.add_constant(x)).fit()"
   ]
  },
  {
   "cell_type": "code",
   "execution_count": 26,
   "id": "e4df2c64-aa4a-437f-86d3-1c563ba9cde2",
   "metadata": {},
   "outputs": [
    {
     "name": "stdout",
     "output_type": "stream",
     "text": [
      "                            OLS Regression Results                            \n",
      "==============================================================================\n",
      "Dep. Variable:                    CCS   R-squared:                       0.712\n",
      "Model:                            OLS   Adj. R-squared:                  0.710\n",
      "Method:                 Least Squares   F-statistic:                     493.3\n",
      "Date:                Wed, 09 Oct 2024   Prob (F-statistic):          7.66e-267\n",
      "Time:                        13:14:42   Log-Likelihood:                -3600.7\n",
      "No. Observations:                1005   AIC:                             7213.\n",
      "Df Residuals:                     999   BIC:                             7243.\n",
      "Df Model:                           5                                         \n",
      "Covariance Type:            nonrobust                                         \n",
      "=======================================================================================\n",
      "                          coef    std err          t      P>|t|      [0.025      0.975]\n",
      "---------------------------------------------------------------------------------------\n",
      "const                 -14.4833      1.309    -11.066      0.000     -17.052     -11.915\n",
      "Blast Furnace Slag      0.0811      0.004     19.363      0.000       0.073       0.089\n",
      "Fly Ash                 0.0732      0.007     10.818      0.000       0.060       0.086\n",
      "Superplasticizer        0.2039      0.069      2.975      0.003       0.069       0.338\n",
      "Age                     0.2462      0.008     31.632      0.000       0.231       0.261\n",
      "Cement Water Ratio     18.7498      0.621     30.188      0.000      17.531      19.969\n",
      "==============================================================================\n",
      "Omnibus:                        4.696   Durbin-Watson:                   1.266\n",
      "Prob(Omnibus):                  0.096   Jarque-Bera (JB):                4.998\n",
      "Skew:                           0.099   Prob(JB):                       0.0822\n",
      "Kurtosis:                       3.284   Cond. No.                         618.\n",
      "==============================================================================\n",
      "\n",
      "Notes:\n",
      "[1] Standard Errors assume that the covariance matrix of the errors is correctly specified.\n"
     ]
    }
   ],
   "source": [
    "print(model.summary())"
   ]
  },
  {
   "cell_type": "markdown",
   "id": "2701f9e6-2355-40a3-9cab-6ce278b2004a",
   "metadata": {},
   "source": [
    "# Assumption 4"
   ]
  },
  {
   "cell_type": "code",
   "execution_count": 27,
   "id": "6ee38747-38e1-4552-b00d-1dcaf76ff160",
   "metadata": {},
   "outputs": [
    {
     "name": "stdout",
     "output_type": "stream",
     "text": [
      "Reject Ho\n"
     ]
    }
   ],
   "source": [
    "# Ho: Variables are lineqr\n",
    "# Ha: Variables are not Linear\n",
    "\n",
    "p_value = linear_rainbow(model)[1]\n",
    "\n",
    "if p_value < 0.05:\n",
    "    print(\"Reject Ho\")\n",
    "else:\n",
    "    print(\"Failed to Reject Ho\")"
   ]
  },
  {
   "cell_type": "markdown",
   "id": "7a2c8c02-9852-487d-9a60-e87b9ab9ec93",
   "metadata": {},
   "source": [
    "# Assumption 5"
   ]
  },
  {
   "cell_type": "code",
   "execution_count": 28,
   "id": "93bff139-e1e1-4cac-8e7a-ef7ede25b15b",
   "metadata": {},
   "outputs": [
    {
     "data": {
      "image/png": "[encoded data removed]",
      "text/plain": [
       "<Figure size 640x480 with 1 Axes>"
      ]
     },
     "metadata": {},
     "output_type": "display_data"
    }
   ],
   "source": [
    "sns.residplot(x=model.fittedvalues,y=model.resid)\n",
    "plt.xlabel('Predicted/FittedValues')\n",
    "plt.ylabel('Residuals')\n",
    "plt.show()"
   ]
  },
  {
   "cell_type": "code",
   "execution_count": 29,
   "id": "6f13637a-c8fb-443e-ab11-c5441e0519a7",
   "metadata": {},
   "outputs": [
    {
     "name": "stdout",
     "output_type": "stream",
     "text": [
      "Reject Ho\n"
     ]
    }
   ],
   "source": [
    "# Ho: The Variance is same(Homoscedastic)\n",
    "# Ha: The Variance is not same(Heteroscedastic)\n",
    "\n",
    "p_value = sma.stats.diagnostic.het_breuschpagan(resid=model.resid,exog_het=sma.add_constant(x).values)[1]\n",
    "\n",
    "if p_value < 0.05:\n",
    "    print(\"Reject Ho\")\n",
    "else:\n",
    "    print(\"Failed to reject Ho\")"
   ]
  },
  {
   "cell_type": "markdown",
   "id": "222427ec-d12b-4504-ac28-db6e34704fb8",
   "metadata": {},
   "source": [
    "# Assumption 6"
   ]
  },
  {
   "cell_type": "code",
   "execution_count": 30,
   "id": "55455979-054a-42ea-9cfe-79f1f3d400ee",
   "metadata": {},
   "outputs": [
    {
     "data": {
      "image/png": "[encoded data removed]",
      "text/plain": [
       "<Figure size 640x480 with 1 Axes>"
      ]
     },
     "metadata": {},
     "output_type": "display_data"
    }
   ],
   "source": [
    "stats.probplot(model.resid,plot=plt)\n",
    "plt.show()"
   ]
  },
  {
   "cell_type": "code",
   "execution_count": 31,
   "id": "fbf1dd05-ef72-4d5f-a003-3828b9caedf9",
   "metadata": {},
   "outputs": [
    {
     "name": "stdout",
     "output_type": "stream",
     "text": [
      "Failed to reject Ho\n"
     ]
    }
   ],
   "source": [
    "# Ho: Data is normal\n",
    "# Ha: Data is not normal\n",
    "\n",
    "p_value = stats.shapiro(model.resid)[1]\n",
    "\n",
    "if p_value < 0.05:\n",
    "    print(\"Reject Ho\")\n",
    "else:\n",
    "    print(\"Failed to reject Ho\")"
   ]
  },
  {
   "cell_type": "markdown",
   "id": "ccbf339a-fe17-4305-8438-aff7d7e4dda0",
   "metadata": {},
   "source": [
    "## ***`Predictive Modelling`***"
   ]
  },
  {
   "cell_type": "code",
   "execution_count": 32,
   "id": "d060571e-37d6-4247-890c-05011f2bbce9",
   "metadata": {},
   "outputs": [],
   "source": [
    "from sklearn.linear_model import LinearRegression,Ridge,Lasso,ElasticNet\n",
    "from sklearn.metrics import (r2_score,mean_squared_error,mean_absolute_error,mean_absolute_percentage_error)\n",
    "from sklearn.model_selection import train_test_split"
   ]
  },
  {
   "cell_type": "markdown",
   "id": "431276de-4cdb-46c2-9893-e9e8a766af08",
   "metadata": {},
   "source": [
    "## ***`Train Test Split`***"
   ]
  },
  {
   "cell_type": "code",
   "execution_count": 33,
   "id": "47c3a1e4-7816-4803-bf2f-fd733e4eb6ca",
   "metadata": {},
   "outputs": [],
   "source": [
    "x_train, x_test, y_train, y_test = train_test_split(x,y,train_size=800,random_state=2)"
   ]
  },
  {
   "cell_type": "code",
   "execution_count": 34,
   "id": "baad7102-acbc-4a81-9665-fa47f4790d5a",
   "metadata": {},
   "outputs": [
    {
     "name": "stdout",
     "output_type": "stream",
     "text": [
      "(800, 5) (800,) (205, 5) (205,)\n"
     ]
    }
   ],
   "source": [
    "print(x_train.shape, y_train.shape, x_test.shape, y_test.shape)"
   ]
  },
  {
   "cell_type": "markdown",
   "id": "83f098c1-20e3-4d6f-badd-4229fe79f26f",
   "metadata": {},
   "source": [
    "## ***`Linear Regression`***"
   ]
  },
  {
   "cell_type": "code",
   "execution_count": 35,
   "id": "6222b6ed-c8ee-4e6c-9e4e-502bfce97c0c",
   "metadata": {},
   "outputs": [],
   "source": [
    "model_lr = LinearRegression()\n",
    "model_lr.fit(x_train,y_train)\n",
    "y_lr_train = model_lr.predict(x_train)\n",
    "y_lr_test = model_lr.predict(x_test)"
   ]
  },
  {
   "cell_type": "code",
   "execution_count": 36,
   "id": "0dbd7112-9c4e-4bd2-a6d0-f05cd5c1f4a5",
   "metadata": {},
   "outputs": [
    {
     "name": "stdout",
     "output_type": "stream",
     "text": [
      "R2:  0.7143103932676484\n",
      "MSE:  75.76260161073316\n",
      "RMSE:  8.704171506279799\n",
      "MAE:  6.809201716597718\n",
      "MAPE:  0.25434182808170425\n"
     ]
    }
   ],
   "source": [
    "# Train Metrics\n",
    "print('R2: ',r2_score(y_train,y_lr_train))\n",
    "print('MSE: ',mean_squared_error(y_train,y_lr_train))\n",
    "print('RMSE: ',mean_squared_error(y_train,y_lr_train)**0.5)\n",
    "print('MAE: ',mean_absolute_error(y_train,y_lr_train))\n",
    "print('MAPE: ',mean_absolute_percentage_error(y_train,y_lr_train))"
   ]
  },
  {
   "cell_type": "code",
   "execution_count": 37,
   "id": "959f4d3b-e64a-4361-9a1b-6b7d7b678e12",
   "metadata": {},
   "outputs": [
    {
     "name": "stdout",
     "output_type": "stream",
     "text": [
      "R2:  0.6970935894657555\n",
      "MSE:  76.81189095069169\n",
      "RMSE:  8.764239325274708\n",
      "MAE:  6.828110808684348\n",
      "MAPE:  0.24600507146457531\n"
     ]
    }
   ],
   "source": [
    "# Test Metrics\n",
    "print('R2: ',r2_score(y_test,y_lr_test))\n",
    "print('MSE: ',mean_squared_error(y_test,y_lr_test))\n",
    "print('RMSE: ',mean_squared_error(y_test,y_lr_test)**0.5)\n",
    "print('MAE: ',mean_absolute_error(y_test,y_lr_test))\n",
    "print('MAPE: ',mean_absolute_percentage_error(y_test,y_lr_test))"
   ]
  },
  {
   "cell_type": "code",
   "execution_count": 38,
   "id": "bc9fdeb7-07f7-400e-a142-10e8da5fa50e",
   "metadata": {},
   "outputs": [
    {
     "data": {
      "text/plain": [
       "-15.11141916982438"
      ]
     },
     "execution_count": 38,
     "metadata": {},
     "output_type": "execute_result"
    }
   ],
   "source": [
    "model_lr.intercept_"
   ]
  },
  {
   "cell_type": "code",
   "execution_count": 39,
   "id": "a679ba55-b545-4184-a3f8-02e0ddbc57de",
   "metadata": {},
   "outputs": [
    {
     "data": {
      "text/html": [
       "<div>\n",
       "<style scoped>\n",
       "    .dataframe tbody tr th:only-of-type {\n",
       "        vertical-align: middle;\n",
       "    }\n",
       "\n",
       "    .dataframe tbody tr th {\n",
       "        vertical-align: top;\n",
       "    }\n",
       "\n",
       "    .dataframe thead th {\n",
       "        text-align: right;\n",
       "    }\n",
       "</style>\n",
       "<table border=\"1\" class=\"dataframe\">\n",
       "  <thead>\n",
       "    <tr style=\"text-align: right;\">\n",
       "      <th></th>\n",
       "      <th>Coef</th>\n",
       "    </tr>\n",
       "  </thead>\n",
       "  <tbody>\n",
       "    <tr>\n",
       "      <th>Blast Furnace Slag</th>\n",
       "      <td>0.080493</td>\n",
       "    </tr>\n",
       "    <tr>\n",
       "      <th>Fly Ash</th>\n",
       "      <td>0.078325</td>\n",
       "    </tr>\n",
       "    <tr>\n",
       "      <th>Superplasticizer</th>\n",
       "      <td>0.201586</td>\n",
       "    </tr>\n",
       "    <tr>\n",
       "      <th>Age</th>\n",
       "      <td>0.239704</td>\n",
       "    </tr>\n",
       "    <tr>\n",
       "      <th>Cement Water Ratio</th>\n",
       "      <td>19.145826</td>\n",
       "    </tr>\n",
       "  </tbody>\n",
       "</table>\n",
       "</div>"
      ],
      "text/plain": [
       "                          Coef\n",
       "Blast Furnace Slag    0.080493\n",
       "Fly Ash               0.078325\n",
       "Superplasticizer      0.201586\n",
       "Age                   0.239704\n",
       "Cement Water Ratio   19.145826"
      ]
     },
     "execution_count": 39,
     "metadata": {},
     "output_type": "execute_result"
    }
   ],
   "source": [
    "pd.DataFrame({'Coef':model_lr.coef_},index=x.columns)"
   ]
  },
  {
   "cell_type": "markdown",
   "id": "e5daeaea-33c5-467a-be19-7b0cb8d173fa",
   "metadata": {},
   "source": [
    "## ***`Regularization`***"
   ]
  },
  {
   "cell_type": "markdown",
   "id": "9fcc2682-8b5b-402c-a8af-0adc658fff4e",
   "metadata": {},
   "source": [
    "### ***`Ridge Regularization (L2 Penalty)`***"
   ]
  },
  {
   "cell_type": "code",
   "execution_count": 40,
   "id": "a70446cb-8bb4-43de-8e30-a3d897ec607f",
   "metadata": {},
   "outputs": [],
   "source": [
    "model_ridge = Ridge(alpha=0.1)\n",
    "model_ridge.fit(x_train,y_train)\n",
    "y_ridge_train = model_ridge.predict(x_train)\n",
    "y_ridge_test = model_ridge.predict(x_test)"
   ]
  },
  {
   "cell_type": "code",
   "execution_count": 41,
   "id": "cda54d25-765d-4430-afd4-76956e4049c5",
   "metadata": {},
   "outputs": [
    {
     "name": "stdout",
     "output_type": "stream",
     "text": [
      "R2:  0.7143102782002051\n",
      "MSE:  75.76263212569995\n",
      "RMSE:  8.704173259172864\n",
      "MAE:  6.809272207884114\n",
      "MAPE:  0.25437499479448866\n"
     ]
    }
   ],
   "source": [
    "# Train Metrics\n",
    "print('R2: ',r2_score(y_train,y_ridge_train))\n",
    "print('MSE: ',mean_squared_error(y_train,y_ridge_train))\n",
    "print('RMSE: ',mean_squared_error(y_train,y_ridge_train)**0.5)\n",
    "print('MAE: ',mean_absolute_error(y_train,y_ridge_train))\n",
    "print('MAPE: ',mean_absolute_percentage_error(y_train,y_ridge_train))"
   ]
  },
  {
   "cell_type": "code",
   "execution_count": 42,
   "id": "29598b4e-92ce-4d45-9a9e-e41bcb50a6a4",
   "metadata": {},
   "outputs": [
    {
     "name": "stdout",
     "output_type": "stream",
     "text": [
      "R2:  0.6971321879918011\n",
      "MSE:  76.80210302389199\n",
      "RMSE:  8.763680906097163\n",
      "MAE:  6.827652591396693\n",
      "MAPE:  0.24602853047220485\n"
     ]
    }
   ],
   "source": [
    "# Test Metrics\n",
    "print('R2: ',r2_score(y_test,y_ridge_test))\n",
    "print('MSE: ',mean_squared_error(y_test,y_ridge_test))\n",
    "print('RMSE: ',mean_squared_error(y_test,y_ridge_test)**0.5)\n",
    "print('MAE: ',mean_absolute_error(y_test,y_ridge_test))\n",
    "print('MAPE: ',mean_absolute_percentage_error(y_test,y_ridge_test))"
   ]
  },
  {
   "cell_type": "code",
   "execution_count": 43,
   "id": "96e4fb7a-2711-481a-b015-e69bf6c0dba4",
   "metadata": {},
   "outputs": [
    {
     "data": {
      "text/html": [
       "<div>\n",
       "<style scoped>\n",
       "    .dataframe tbody tr th:only-of-type {\n",
       "        vertical-align: middle;\n",
       "    }\n",
       "\n",
       "    .dataframe tbody tr th {\n",
       "        vertical-align: top;\n",
       "    }\n",
       "\n",
       "    .dataframe thead th {\n",
       "        text-align: right;\n",
       "    }\n",
       "</style>\n",
       "<table border=\"1\" class=\"dataframe\">\n",
       "  <thead>\n",
       "    <tr style=\"text-align: right;\">\n",
       "      <th></th>\n",
       "      <th>Coef_lr</th>\n",
       "      <th>Coef_L2</th>\n",
       "    </tr>\n",
       "  </thead>\n",
       "  <tbody>\n",
       "    <tr>\n",
       "      <th>Blast Furnace Slag</th>\n",
       "      <td>0.080493</td>\n",
       "      <td>0.080444</td>\n",
       "    </tr>\n",
       "    <tr>\n",
       "      <th>Fly Ash</th>\n",
       "      <td>0.078325</td>\n",
       "      <td>0.078234</td>\n",
       "    </tr>\n",
       "    <tr>\n",
       "      <th>Superplasticizer</th>\n",
       "      <td>0.201586</td>\n",
       "      <td>0.202439</td>\n",
       "    </tr>\n",
       "    <tr>\n",
       "      <th>Age</th>\n",
       "      <td>0.239704</td>\n",
       "      <td>0.239698</td>\n",
       "    </tr>\n",
       "    <tr>\n",
       "      <th>Cement Water Ratio</th>\n",
       "      <td>19.145826</td>\n",
       "      <td>19.133058</td>\n",
       "    </tr>\n",
       "  </tbody>\n",
       "</table>\n",
       "</div>"
      ],
      "text/plain": [
       "                       Coef_lr    Coef_L2\n",
       "Blast Furnace Slag    0.080493   0.080444\n",
       "Fly Ash               0.078325   0.078234\n",
       "Superplasticizer      0.201586   0.202439\n",
       "Age                   0.239704   0.239698\n",
       "Cement Water Ratio   19.145826  19.133058"
      ]
     },
     "execution_count": 43,
     "metadata": {},
     "output_type": "execute_result"
    }
   ],
   "source": [
    "pd.DataFrame({'Coef_lr':model_lr.coef_,'Coef_L2':model_ridge.coef_},index=x.columns)"
   ]
  },
  {
   "cell_type": "markdown",
   "id": "4b8e014b-b44a-421b-9b59-3ac206f91379",
   "metadata": {},
   "source": [
    "### ***`Lasso Regularization (L1 Penalty)`***"
   ]
  },
  {
   "cell_type": "code",
   "execution_count": 44,
   "id": "bf0db860-2bf1-4247-8bba-f976cdd02009",
   "metadata": {},
   "outputs": [],
   "source": [
    "model_lasso = Lasso(alpha=0.1)\n",
    "model_lasso.fit(x_train,y_train)\n",
    "y_lasso_train = model_lasso.predict(x_train)\n",
    "y_lasso_test = model_lasso.predict(x_test)"
   ]
  },
  {
   "cell_type": "code",
   "execution_count": 45,
   "id": "7458e860-0c49-422f-a90a-87dfdafc8d39",
   "metadata": {},
   "outputs": [
    {
     "name": "stdout",
     "output_type": "stream",
     "text": [
      "R2:  0.714129251801643\n",
      "MSE:  75.81063888055589\n",
      "RMSE:  8.706930508540646\n",
      "MAE:  6.81747307833748\n",
      "MAPE:  0.25600191552823065\n"
     ]
    }
   ],
   "source": [
    "# Train Metrics\n",
    "print('R2: ',r2_score(y_train,y_lasso_train))\n",
    "print('MSE: ',mean_squared_error(y_train,y_lasso_train))\n",
    "print('RMSE: ',mean_squared_error(y_train,y_lasso_train)**0.5)\n",
    "print('MAE: ',mean_absolute_error(y_train,y_lasso_train))\n",
    "print('MAPE: ',mean_absolute_percentage_error(y_train,y_lasso_train))"
   ]
  },
  {
   "cell_type": "code",
   "execution_count": 46,
   "id": "8b4df1c6-fd7f-4e76-876d-8886da59a96e",
   "metadata": {},
   "outputs": [
    {
     "name": "stdout",
     "output_type": "stream",
     "text": [
      "R2:  0.6984569119224617\n",
      "MSE:  76.46617566625632\n",
      "RMSE:  8.74449402002519\n",
      "MAE:  6.809401225009745\n",
      "MAPE:  0.24697762165608467\n"
     ]
    }
   ],
   "source": [
    "# Test Metrics\n",
    "print('R2: ',r2_score(y_test,y_lasso_test))\n",
    "print('MSE: ',mean_squared_error(y_test,y_lasso_test))\n",
    "print('RMSE: ',mean_squared_error(y_test,y_lasso_test)**0.5)\n",
    "print('MAE: ',mean_absolute_error(y_test,y_lasso_test))\n",
    "print('MAPE: ',mean_absolute_percentage_error(y_test,y_lasso_test))"
   ]
  },
  {
   "cell_type": "code",
   "execution_count": 47,
   "id": "9986c1bb-3d9b-4786-9bab-d87b3abc00fb",
   "metadata": {},
   "outputs": [
    {
     "data": {
      "text/html": [
       "<div>\n",
       "<style scoped>\n",
       "    .dataframe tbody tr th:only-of-type {\n",
       "        vertical-align: middle;\n",
       "    }\n",
       "\n",
       "    .dataframe tbody tr th {\n",
       "        vertical-align: top;\n",
       "    }\n",
       "\n",
       "    .dataframe thead th {\n",
       "        text-align: right;\n",
       "    }\n",
       "</style>\n",
       "<table border=\"1\" class=\"dataframe\">\n",
       "  <thead>\n",
       "    <tr style=\"text-align: right;\">\n",
       "      <th></th>\n",
       "      <th>Coef_lr</th>\n",
       "      <th>Coef_L2</th>\n",
       "      <th>Coef_L1</th>\n",
       "    </tr>\n",
       "  </thead>\n",
       "  <tbody>\n",
       "    <tr>\n",
       "      <th>Blast Furnace Slag</th>\n",
       "      <td>0.080493</td>\n",
       "      <td>0.080444</td>\n",
       "      <td>0.078573</td>\n",
       "    </tr>\n",
       "    <tr>\n",
       "      <th>Fly Ash</th>\n",
       "      <td>0.078325</td>\n",
       "      <td>0.078234</td>\n",
       "      <td>0.074847</td>\n",
       "    </tr>\n",
       "    <tr>\n",
       "      <th>Superplasticizer</th>\n",
       "      <td>0.201586</td>\n",
       "      <td>0.202439</td>\n",
       "      <td>0.231686</td>\n",
       "    </tr>\n",
       "    <tr>\n",
       "      <th>Age</th>\n",
       "      <td>0.239704</td>\n",
       "      <td>0.239698</td>\n",
       "      <td>0.239333</td>\n",
       "    </tr>\n",
       "    <tr>\n",
       "      <th>Cement Water Ratio</th>\n",
       "      <td>19.145826</td>\n",
       "      <td>19.133058</td>\n",
       "      <td>18.641174</td>\n",
       "    </tr>\n",
       "  </tbody>\n",
       "</table>\n",
       "</div>"
      ],
      "text/plain": [
       "                       Coef_lr    Coef_L2    Coef_L1\n",
       "Blast Furnace Slag    0.080493   0.080444   0.078573\n",
       "Fly Ash               0.078325   0.078234   0.074847\n",
       "Superplasticizer      0.201586   0.202439   0.231686\n",
       "Age                   0.239704   0.239698   0.239333\n",
       "Cement Water Ratio   19.145826  19.133058  18.641174"
      ]
     },
     "execution_count": 47,
     "metadata": {},
     "output_type": "execute_result"
    }
   ],
   "source": [
    "pd.DataFrame({'Coef_lr':model_lr.coef_,'Coef_L2':model_ridge.coef_,'Coef_L1':model_lasso.coef_},index=x.columns)"
   ]
  },
  {
   "cell_type": "markdown",
   "id": "461a7d6c-6fbc-4de6-9384-86789b8148fd",
   "metadata": {},
   "source": [
    "## ***`Elastic Net Regression (L1 +L2)`***"
   ]
  },
  {
   "cell_type": "code",
   "execution_count": 48,
   "id": "eeea6356-8bdb-4448-ad78-4dcab567e105",
   "metadata": {},
   "outputs": [],
   "source": [
    "model_en = ElasticNet(alpha=0.1,l1_ratio=0.7)\n",
    "model_en.fit(x_train,y_train)\n",
    "y_en_train = model_en.predict(x_train)\n",
    "y_en_test = model_en.predict(x_test)"
   ]
  },
  {
   "cell_type": "code",
   "execution_count": 49,
   "id": "cae422e7-8875-4349-9d54-93322f0ef581",
   "metadata": {},
   "outputs": [
    {
     "name": "stdout",
     "output_type": "stream",
     "text": [
      "R2:  0.7081855799171384\n",
      "MSE:  77.38685318614841\n",
      "RMSE:  8.796979776386236\n",
      "MAE:  6.915004682358633\n",
      "MAPE:  0.26536113163311176\n"
     ]
    }
   ],
   "source": [
    "# Train Metrics\n",
    "print('R2: ',r2_score(y_train,y_en_train))\n",
    "print('MSE: ',mean_squared_error(y_train,y_en_train))\n",
    "print('RMSE: ',mean_squared_error(y_train,y_en_train)**0.5)\n",
    "print('MAE: ',mean_absolute_error(y_train,y_en_train))\n",
    "print('MAPE: ',mean_absolute_percentage_error(y_train,y_en_train))"
   ]
  },
  {
   "cell_type": "code",
   "execution_count": 50,
   "id": "afcfb312-5642-4748-89d1-a90dc6958ca0",
   "metadata": {},
   "outputs": [
    {
     "name": "stdout",
     "output_type": "stream",
     "text": [
      "R2:  0.6981009483074045\n",
      "MSE:  76.5564419578609\n",
      "RMSE:  8.74965381931542\n",
      "MAE:  6.788208718848091\n",
      "MAPE:  0.2527686222406317\n"
     ]
    }
   ],
   "source": [
    "# Test Metrics\n",
    "print('R2: ',r2_score(y_test,y_en_test))\n",
    "print('MSE: ',mean_squared_error(y_test,y_en_test))\n",
    "print('RMSE: ',mean_squared_error(y_test,y_en_test)**0.5)\n",
    "print('MAE: ',mean_absolute_error(y_test,y_en_test))\n",
    "print('MAPE: ',mean_absolute_percentage_error(y_test,y_en_test))"
   ]
  },
  {
   "cell_type": "code",
   "execution_count": 51,
   "id": "a3788a13-116b-49b5-a710-881e20606eaa",
   "metadata": {},
   "outputs": [
    {
     "data": {
      "text/html": [
       "<div>\n",
       "<style scoped>\n",
       "    .dataframe tbody tr th:only-of-type {\n",
       "        vertical-align: middle;\n",
       "    }\n",
       "\n",
       "    .dataframe tbody tr th {\n",
       "        vertical-align: top;\n",
       "    }\n",
       "\n",
       "    .dataframe thead th {\n",
       "        text-align: right;\n",
       "    }\n",
       "</style>\n",
       "<table border=\"1\" class=\"dataframe\">\n",
       "  <thead>\n",
       "    <tr style=\"text-align: right;\">\n",
       "      <th></th>\n",
       "      <th>Coef_lr</th>\n",
       "      <th>Coef_L2</th>\n",
       "      <th>Coef_L1</th>\n",
       "      <th>Coef_en</th>\n",
       "    </tr>\n",
       "  </thead>\n",
       "  <tbody>\n",
       "    <tr>\n",
       "      <th>Blast Furnace Slag</th>\n",
       "      <td>0.080493</td>\n",
       "      <td>0.080444</td>\n",
       "      <td>0.078573</td>\n",
       "      <td>0.069192</td>\n",
       "    </tr>\n",
       "    <tr>\n",
       "      <th>Fly Ash</th>\n",
       "      <td>0.078325</td>\n",
       "      <td>0.078234</td>\n",
       "      <td>0.074847</td>\n",
       "      <td>0.057428</td>\n",
       "    </tr>\n",
       "    <tr>\n",
       "      <th>Superplasticizer</th>\n",
       "      <td>0.201586</td>\n",
       "      <td>0.202439</td>\n",
       "      <td>0.231686</td>\n",
       "      <td>0.395525</td>\n",
       "    </tr>\n",
       "    <tr>\n",
       "      <th>Age</th>\n",
       "      <td>0.239704</td>\n",
       "      <td>0.239698</td>\n",
       "      <td>0.239333</td>\n",
       "      <td>0.238160</td>\n",
       "    </tr>\n",
       "    <tr>\n",
       "      <th>Cement Water Ratio</th>\n",
       "      <td>19.145826</td>\n",
       "      <td>19.133058</td>\n",
       "      <td>18.641174</td>\n",
       "      <td>16.200449</td>\n",
       "    </tr>\n",
       "  </tbody>\n",
       "</table>\n",
       "</div>"
      ],
      "text/plain": [
       "                       Coef_lr    Coef_L2    Coef_L1    Coef_en\n",
       "Blast Furnace Slag    0.080493   0.080444   0.078573   0.069192\n",
       "Fly Ash               0.078325   0.078234   0.074847   0.057428\n",
       "Superplasticizer      0.201586   0.202439   0.231686   0.395525\n",
       "Age                   0.239704   0.239698   0.239333   0.238160\n",
       "Cement Water Ratio   19.145826  19.133058  18.641174  16.200449"
      ]
     },
     "execution_count": 51,
     "metadata": {},
     "output_type": "execute_result"
    }
   ],
   "source": [
    "pd.DataFrame({'Coef_lr':model_lr.coef_,'Coef_L2':model_ridge.coef_,'Coef_L1':model_lasso.coef_,'Coef_en':model_en.coef_}\n",
    "             ,index=x.columns)"
   ]
  },
  {
   "cell_type": "markdown",
   "id": "30f9c8b4-1120-4888-b707-834ef1e5f76d",
   "metadata": {},
   "source": [
    "# ***`Hyperparameter Tuning`***"
   ]
  },
  {
   "cell_type": "markdown",
   "id": "19cc7a99-59a4-46f2-a41d-204533333e02",
   "metadata": {},
   "source": [
    "### ***`Ridge Regularization`***"
   ]
  },
  {
   "cell_type": "code",
   "execution_count": 52,
   "id": "23c058b4-bdd6-48be-973e-cfbadd04ffe1",
   "metadata": {},
   "outputs": [],
   "source": [
    "from sklearn.model_selection import GridSearchCV"
   ]
  },
  {
   "cell_type": "code",
   "execution_count": 53,
   "id": "40819449-b9a4-4227-9ecc-d813f5380db2",
   "metadata": {},
   "outputs": [],
   "source": [
    "grid = {'alpha':[0.01,0.05,0.1,0.5,1]}"
   ]
  },
  {
   "cell_type": "code",
   "execution_count": 54,
   "id": "991cfca1-dfb2-461b-8a24-0e1d671be0cb",
   "metadata": {},
   "outputs": [],
   "source": [
    "gscv = GridSearchCV(estimator=Ridge(),param_grid=grid,cv=5,scoring='r2',verbose=3)"
   ]
  },
  {
   "cell_type": "code",
   "execution_count": 55,
   "id": "4923e292-94a4-4174-bd73-ec505e33a4ee",
   "metadata": {},
   "outputs": [
    {
     "name": "stdout",
     "output_type": "stream",
     "text": [
      "Fitting 5 folds for each of 5 candidates, totalling 25 fits\n",
      "[CV 1/5] END ........................alpha=0.01;, score=0.724 total time=   0.0s\n",
      "[CV 2/5] END ........................alpha=0.01;, score=0.706 total time=   0.0s\n",
      "[CV 3/5] END ........................alpha=0.01;, score=0.727 total time=   0.0s\n",
      "[CV 4/5] END ........................alpha=0.01;, score=0.678 total time=   0.0s\n",
      "[CV 5/5] END ........................alpha=0.01;, score=0.710 total time=   0.0s\n",
      "[CV 1/5] END ........................alpha=0.05;, score=0.724 total time=   0.0s\n",
      "[CV 2/5] END ........................alpha=0.05;, score=0.706 total time=   0.0s\n",
      "[CV 3/5] END ........................alpha=0.05;, score=0.727 total time=   0.0s\n",
      "[CV 4/5] END ........................alpha=0.05;, score=0.678 total time=   0.0s\n",
      "[CV 5/5] END ........................alpha=0.05;, score=0.710 total time=   0.0s\n",
      "[CV 1/5] END .........................alpha=0.1;, score=0.724 total time=   0.0s\n",
      "[CV 2/5] END .........................alpha=0.1;, score=0.706 total time=   0.0s\n",
      "[CV 3/5] END .........................alpha=0.1;, score=0.727 total time=   0.0s\n",
      "[CV 4/5] END .........................alpha=0.1;, score=0.678 total time=   0.0s\n",
      "[CV 5/5] END .........................alpha=0.1;, score=0.710 total time=   0.0s\n",
      "[CV 1/5] END .........................alpha=0.5;, score=0.724 total time=   0.0s\n",
      "[CV 2/5] END .........................alpha=0.5;, score=0.706 total time=   0.0s\n",
      "[CV 3/5] END .........................alpha=0.5;, score=0.726 total time=   0.0s\n",
      "[CV 4/5] END .........................alpha=0.5;, score=0.677 total time=   0.0s\n",
      "[CV 5/5] END .........................alpha=0.5;, score=0.710 total time=   0.0s\n",
      "[CV 1/5] END ...........................alpha=1;, score=0.724 total time=   0.0s\n",
      "[CV 2/5] END ...........................alpha=1;, score=0.706 total time=   0.0s\n",
      "[CV 3/5] END ...........................alpha=1;, score=0.726 total time=   0.0s\n",
      "[CV 4/5] END ...........................alpha=1;, score=0.677 total time=   0.0s\n",
      "[CV 5/5] END ...........................alpha=1;, score=0.710 total time=   0.0s\n"
     ]
    },
    {
     "data": {
      "text/html": [
       "<style>#sk-container-id-1 {color: black;background-color: white;}#sk-container-id-1 pre{padding: 0;}#sk-container-id-1 div.sk-toggleable {background-color: white;}#sk-container-id-1 label.sk-toggleable__label {cursor: pointer;display: block;width: 100%;margin-bottom: 0;padding: 0.3em;box-sizing: border-box;text-align: center;}#sk-container-id-1 label.sk-toggleable__label-arrow:before {content: \"▸\";float: left;margin-right: 0.25em;color: #696969;}#sk-container-id-1 label.sk-toggleable__label-arrow:hover:before {color: black;}#sk-container-id-1 div.sk-estimator:hover label.sk-toggleable__label-arrow:before {color: black;}#sk-container-id-1 div.sk-toggleable__content {max-height: 0;max-width: 0;overflow: hidden;text-align: left;background-color: #f0f8ff;}#sk-container-id-1 div.sk-toggleable__content pre {margin: 0.2em;color: black;border-radius: 0.25em;background-color: #f0f8ff;}#sk-container-id-1 input.sk-toggleable__control:checked~div.sk-toggleable__content {max-height: 200px;max-width: 100%;overflow: auto;}#sk-container-id-1 input.sk-toggleable__control:checked~label.sk-toggleable__label-arrow:before {content: \"▾\";}#sk-container-id-1 div.sk-estimator input.sk-toggleable__control:checked~label.sk-toggleable__label {background-color: #d4ebff;}#sk-container-id-1 div.sk-label input.sk-toggleable__control:checked~label.sk-toggleable__label {background-color: #d4ebff;}#sk-container-id-1 input.sk-hidden--visually {border: 0;clip: rect(1px 1px 1px 1px);clip: rect(1px, 1px, 1px, 1px);height: 1px;margin: -1px;overflow: hidden;padding: 0;position: absolute;width: 1px;}#sk-container-id-1 div.sk-estimator {font-family: monospace;background-color: #f0f8ff;border: 1px dotted black;border-radius: 0.25em;box-sizing: border-box;margin-bottom: 0.5em;}#sk-container-id-1 div.sk-estimator:hover {background-color: #d4ebff;}#sk-container-id-1 div.sk-parallel-item::after {content: \"\";width: 100%;border-bottom: 1px solid gray;flex-grow: 1;}#sk-container-id-1 div.sk-label:hover label.sk-toggleable__label {background-color: #d4ebff;}#sk-container-id-1 div.sk-serial::before {content: \"\";position: absolute;border-left: 1px solid gray;box-sizing: border-box;top: 0;bottom: 0;left: 50%;z-index: 0;}#sk-container-id-1 div.sk-serial {display: flex;flex-direction: column;align-items: center;background-color: white;padding-right: 0.2em;padding-left: 0.2em;position: relative;}#sk-container-id-1 div.sk-item {position: relative;z-index: 1;}#sk-container-id-1 div.sk-parallel {display: flex;align-items: stretch;justify-content: center;background-color: white;position: relative;}#sk-container-id-1 div.sk-item::before, #sk-container-id-1 div.sk-parallel-item::before {content: \"\";position: absolute;border-left: 1px solid gray;box-sizing: border-box;top: 0;bottom: 0;left: 50%;z-index: -1;}#sk-container-id-1 div.sk-parallel-item {display: flex;flex-direction: column;z-index: 1;position: relative;background-color: white;}#sk-container-id-1 div.sk-parallel-item:first-child::after {align-self: flex-end;width: 50%;}#sk-container-id-1 div.sk-parallel-item:last-child::after {align-self: flex-start;width: 50%;}#sk-container-id-1 div.sk-parallel-item:only-child::after {width: 0;}#sk-container-id-1 div.sk-dashed-wrapped {border: 1px dashed gray;margin: 0 0.4em 0.5em 0.4em;box-sizing: border-box;padding-bottom: 0.4em;background-color: white;}#sk-container-id-1 div.sk-label label {font-family: monospace;font-weight: bold;display: inline-block;line-height: 1.2em;}#sk-container-id-1 div.sk-label-container {text-align: center;}#sk-container-id-1 div.sk-container {/* jupyter's `normalize.less` sets `[hidden] { display: none; }` but bootstrap.min.css set `[hidden] { display: none !important; }` so we also need the `!important` here to be able to override the default hidden behavior on the sphinx rendered scikit-learn.org. See: https://github.com/scikit-learn/scikit-learn/issues/21755 */display: inline-block !important;position: relative;}#sk-container-id-1 div.sk-text-repr-fallback {display: none;}</style><div id=\"sk-container-id-1\" class=\"sk-top-container\"><div class=\"sk-text-repr-fallback\"><pre>GridSearchCV(cv=5, estimator=Ridge(),\n",
       "             param_grid={&#x27;alpha&#x27;: [0.01, 0.05, 0.1, 0.5, 1]}, scoring=&#x27;r2&#x27;,\n",
       "             verbose=3)</pre><b>In a Jupyter environment, please rerun this cell to show the HTML representation or trust the notebook. <br />On GitHub, the HTML representation is unable to render, please try loading this page with nbviewer.org.</b></div><div class=\"sk-container\" hidden><div class=\"sk-item sk-dashed-wrapped\"><div class=\"sk-label-container\"><div class=\"sk-label sk-toggleable\"><input class=\"sk-toggleable__control sk-hidden--visually\" id=\"sk-estimator-id-1\" type=\"checkbox\" ><label for=\"sk-estimator-id-1\" class=\"sk-toggleable__label sk-toggleable__label-arrow\">GridSearchCV</label><div class=\"sk-toggleable__content\"><pre>GridSearchCV(cv=5, estimator=Ridge(),\n",
       "             param_grid={&#x27;alpha&#x27;: [0.01, 0.05, 0.1, 0.5, 1]}, scoring=&#x27;r2&#x27;,\n",
       "             verbose=3)</pre></div></div></div><div class=\"sk-parallel\"><div class=\"sk-parallel-item\"><div class=\"sk-item\"><div class=\"sk-label-container\"><div class=\"sk-label sk-toggleable\"><input class=\"sk-toggleable__control sk-hidden--visually\" id=\"sk-estimator-id-2\" type=\"checkbox\" ><label for=\"sk-estimator-id-2\" class=\"sk-toggleable__label sk-toggleable__label-arrow\">estimator: Ridge</label><div class=\"sk-toggleable__content\"><pre>Ridge()</pre></div></div></div><div class=\"sk-serial\"><div class=\"sk-item\"><div class=\"sk-estimator sk-toggleable\"><input class=\"sk-toggleable__control sk-hidden--visually\" id=\"sk-estimator-id-3\" type=\"checkbox\" ><label for=\"sk-estimator-id-3\" class=\"sk-toggleable__label sk-toggleable__label-arrow\">Ridge</label><div class=\"sk-toggleable__content\"><pre>Ridge()</pre></div></div></div></div></div></div></div></div></div></div>"
      ],
      "text/plain": [
       "GridSearchCV(cv=5, estimator=Ridge(),\n",
       "             param_grid={'alpha': [0.01, 0.05, 0.1, 0.5, 1]}, scoring='r2',\n",
       "             verbose=3)"
      ]
     },
     "execution_count": 55,
     "metadata": {},
     "output_type": "execute_result"
    }
   ],
   "source": [
    "gscv.fit(x_train,y_train)"
   ]
  },
  {
   "cell_type": "code",
   "execution_count": 56,
   "id": "f20e2381-5750-4c9b-83b1-5c4126c29d56",
   "metadata": {},
   "outputs": [
    {
     "data": {
      "text/plain": [
       "{'alpha': 0.01}"
      ]
     },
     "execution_count": 56,
     "metadata": {},
     "output_type": "execute_result"
    }
   ],
   "source": [
    "# Best Parameters\n",
    "gscv.best_params_"
   ]
  },
  {
   "cell_type": "code",
   "execution_count": 57,
   "id": "f620fb5b-5d57-4a47-b7cb-9a2bd87f84c5",
   "metadata": {},
   "outputs": [
    {
     "data": {
      "text/plain": [
       "0.7089252575053908"
      ]
     },
     "execution_count": 57,
     "metadata": {},
     "output_type": "execute_result"
    }
   ],
   "source": [
    "# Best Score\n",
    "gscv.best_score_"
   ]
  },
  {
   "cell_type": "markdown",
   "id": "107a345c-8086-480e-9cff-abf9e92deaea",
   "metadata": {},
   "source": [
    "### ***`Lasso Regularization`***"
   ]
  },
  {
   "cell_type": "code",
   "execution_count": 58,
   "id": "32deb5e4-c589-44e9-93fa-8fb5ceb319da",
   "metadata": {},
   "outputs": [],
   "source": [
    "gscv = GridSearchCV(estimator=Lasso(),param_grid=grid,cv=5,scoring='r2',verbose=3)"
   ]
  },
  {
   "cell_type": "code",
   "execution_count": 59,
   "id": "ba419a06-3842-47df-81a3-af5860defc25",
   "metadata": {},
   "outputs": [
    {
     "name": "stdout",
     "output_type": "stream",
     "text": [
      "Fitting 5 folds for each of 5 candidates, totalling 25 fits\n",
      "[CV 1/5] END ........................alpha=0.01;, score=0.724 total time=   0.0s\n",
      "[CV 2/5] END ........................alpha=0.01;, score=0.706 total time=   0.0s\n",
      "[CV 3/5] END ........................alpha=0.01;, score=0.726 total time=   0.0s\n",
      "[CV 4/5] END ........................alpha=0.01;, score=0.678 total time=   0.0s\n",
      "[CV 5/5] END ........................alpha=0.01;, score=0.710 total time=   0.0s\n",
      "[CV 1/5] END ........................alpha=0.05;, score=0.724 total time=   0.0s\n",
      "[CV 2/5] END ........................alpha=0.05;, score=0.707 total time=   0.0s\n",
      "[CV 3/5] END ........................alpha=0.05;, score=0.726 total time=   0.0s\n",
      "[CV 4/5] END ........................alpha=0.05;, score=0.677 total time=   0.0s\n",
      "[CV 5/5] END ........................alpha=0.05;, score=0.710 total time=   0.0s\n",
      "[CV 1/5] END .........................alpha=0.1;, score=0.724 total time=   0.0s\n",
      "[CV 2/5] END .........................alpha=0.1;, score=0.707 total time=   0.0s\n",
      "[CV 3/5] END .........................alpha=0.1;, score=0.725 total time=   0.0s\n",
      "[CV 4/5] END .........................alpha=0.1;, score=0.677 total time=   0.0s\n",
      "[CV 5/5] END .........................alpha=0.1;, score=0.710 total time=   0.0s\n",
      "[CV 1/5] END .........................alpha=0.5;, score=0.720 total time=   0.0s\n",
      "[CV 2/5] END .........................alpha=0.5;, score=0.710 total time=   0.0s\n",
      "[CV 3/5] END .........................alpha=0.5;, score=0.714 total time=   0.0s\n",
      "[CV 4/5] END .........................alpha=0.5;, score=0.670 total time=   0.0s\n",
      "[CV 5/5] END .........................alpha=0.5;, score=0.706 total time=   0.0s\n",
      "[CV 1/5] END ...........................alpha=1;, score=0.707 total time=   0.0s\n",
      "[CV 2/5] END ...........................alpha=1;, score=0.707 total time=   0.0s\n",
      "[CV 3/5] END ...........................alpha=1;, score=0.691 total time=   0.0s\n",
      "[CV 4/5] END ...........................alpha=1;, score=0.653 total time=   0.0s\n",
      "[CV 5/5] END ...........................alpha=1;, score=0.692 total time=   0.0s\n"
     ]
    },
    {
     "data": {
      "text/html": [
       "<style>#sk-container-id-2 {color: black;background-color: white;}#sk-container-id-2 pre{padding: 0;}#sk-container-id-2 div.sk-toggleable {background-color: white;}#sk-container-id-2 label.sk-toggleable__label {cursor: pointer;display: block;width: 100%;margin-bottom: 0;padding: 0.3em;box-sizing: border-box;text-align: center;}#sk-container-id-2 label.sk-toggleable__label-arrow:before {content: \"▸\";float: left;margin-right: 0.25em;color: #696969;}#sk-container-id-2 label.sk-toggleable__label-arrow:hover:before {color: black;}#sk-container-id-2 div.sk-estimator:hover label.sk-toggleable__label-arrow:before {color: black;}#sk-container-id-2 div.sk-toggleable__content {max-height: 0;max-width: 0;overflow: hidden;text-align: left;background-color: #f0f8ff;}#sk-container-id-2 div.sk-toggleable__content pre {margin: 0.2em;color: black;border-radius: 0.25em;background-color: #f0f8ff;}#sk-container-id-2 input.sk-toggleable__control:checked~div.sk-toggleable__content {max-height: 200px;max-width: 100%;overflow: auto;}#sk-container-id-2 input.sk-toggleable__control:checked~label.sk-toggleable__label-arrow:before {content: \"▾\";}#sk-container-id-2 div.sk-estimator input.sk-toggleable__control:checked~label.sk-toggleable__label {background-color: #d4ebff;}#sk-container-id-2 div.sk-label input.sk-toggleable__control:checked~label.sk-toggleable__label {background-color: #d4ebff;}#sk-container-id-2 input.sk-hidden--visually {border: 0;clip: rect(1px 1px 1px 1px);clip: rect(1px, 1px, 1px, 1px);height: 1px;margin: -1px;overflow: hidden;padding: 0;position: absolute;width: 1px;}#sk-container-id-2 div.sk-estimator {font-family: monospace;background-color: #f0f8ff;border: 1px dotted black;border-radius: 0.25em;box-sizing: border-box;margin-bottom: 0.5em;}#sk-container-id-2 div.sk-estimator:hover {background-color: #d4ebff;}#sk-container-id-2 div.sk-parallel-item::after {content: \"\";width: 100%;border-bottom: 1px solid gray;flex-grow: 1;}#sk-container-id-2 div.sk-label:hover label.sk-toggleable__label {background-color: #d4ebff;}#sk-container-id-2 div.sk-serial::before {content: \"\";position: absolute;border-left: 1px solid gray;box-sizing: border-box;top: 0;bottom: 0;left: 50%;z-index: 0;}#sk-container-id-2 div.sk-serial {display: flex;flex-direction: column;align-items: center;background-color: white;padding-right: 0.2em;padding-left: 0.2em;position: relative;}#sk-container-id-2 div.sk-item {position: relative;z-index: 1;}#sk-container-id-2 div.sk-parallel {display: flex;align-items: stretch;justify-content: center;background-color: white;position: relative;}#sk-container-id-2 div.sk-item::before, #sk-container-id-2 div.sk-parallel-item::before {content: \"\";position: absolute;border-left: 1px solid gray;box-sizing: border-box;top: 0;bottom: 0;left: 50%;z-index: -1;}#sk-container-id-2 div.sk-parallel-item {display: flex;flex-direction: column;z-index: 1;position: relative;background-color: white;}#sk-container-id-2 div.sk-parallel-item:first-child::after {align-self: flex-end;width: 50%;}#sk-container-id-2 div.sk-parallel-item:last-child::after {align-self: flex-start;width: 50%;}#sk-container-id-2 div.sk-parallel-item:only-child::after {width: 0;}#sk-container-id-2 div.sk-dashed-wrapped {border: 1px dashed gray;margin: 0 0.4em 0.5em 0.4em;box-sizing: border-box;padding-bottom: 0.4em;background-color: white;}#sk-container-id-2 div.sk-label label {font-family: monospace;font-weight: bold;display: inline-block;line-height: 1.2em;}#sk-container-id-2 div.sk-label-container {text-align: center;}#sk-container-id-2 div.sk-container {/* jupyter's `normalize.less` sets `[hidden] { display: none; }` but bootstrap.min.css set `[hidden] { display: none !important; }` so we also need the `!important` here to be able to override the default hidden behavior on the sphinx rendered scikit-learn.org. See: https://github.com/scikit-learn/scikit-learn/issues/21755 */display: inline-block !important;position: relative;}#sk-container-id-2 div.sk-text-repr-fallback {display: none;}</style><div id=\"sk-container-id-2\" class=\"sk-top-container\"><div class=\"sk-text-repr-fallback\"><pre>GridSearchCV(cv=5, estimator=Lasso(),\n",
       "             param_grid={&#x27;alpha&#x27;: [0.01, 0.05, 0.1, 0.5, 1]}, scoring=&#x27;r2&#x27;,\n",
       "             verbose=3)</pre><b>In a Jupyter environment, please rerun this cell to show the HTML representation or trust the notebook. <br />On GitHub, the HTML representation is unable to render, please try loading this page with nbviewer.org.</b></div><div class=\"sk-container\" hidden><div class=\"sk-item sk-dashed-wrapped\"><div class=\"sk-label-container\"><div class=\"sk-label sk-toggleable\"><input class=\"sk-toggleable__control sk-hidden--visually\" id=\"sk-estimator-id-4\" type=\"checkbox\" ><label for=\"sk-estimator-id-4\" class=\"sk-toggleable__label sk-toggleable__label-arrow\">GridSearchCV</label><div class=\"sk-toggleable__content\"><pre>GridSearchCV(cv=5, estimator=Lasso(),\n",
       "             param_grid={&#x27;alpha&#x27;: [0.01, 0.05, 0.1, 0.5, 1]}, scoring=&#x27;r2&#x27;,\n",
       "             verbose=3)</pre></div></div></div><div class=\"sk-parallel\"><div class=\"sk-parallel-item\"><div class=\"sk-item\"><div class=\"sk-label-container\"><div class=\"sk-label sk-toggleable\"><input class=\"sk-toggleable__control sk-hidden--visually\" id=\"sk-estimator-id-5\" type=\"checkbox\" ><label for=\"sk-estimator-id-5\" class=\"sk-toggleable__label sk-toggleable__label-arrow\">estimator: Lasso</label><div class=\"sk-toggleable__content\"><pre>Lasso()</pre></div></div></div><div class=\"sk-serial\"><div class=\"sk-item\"><div class=\"sk-estimator sk-toggleable\"><input class=\"sk-toggleable__control sk-hidden--visually\" id=\"sk-estimator-id-6\" type=\"checkbox\" ><label for=\"sk-estimator-id-6\" class=\"sk-toggleable__label sk-toggleable__label-arrow\">Lasso</label><div class=\"sk-toggleable__content\"><pre>Lasso()</pre></div></div></div></div></div></div></div></div></div></div>"
      ],
      "text/plain": [
       "GridSearchCV(cv=5, estimator=Lasso(),\n",
       "             param_grid={'alpha': [0.01, 0.05, 0.1, 0.5, 1]}, scoring='r2',\n",
       "             verbose=3)"
      ]
     },
     "execution_count": 59,
     "metadata": {},
     "output_type": "execute_result"
    }
   ],
   "source": [
    "gscv.fit(x_train,y_train)"
   ]
  },
  {
   "cell_type": "code",
   "execution_count": 60,
   "id": "a19ee62d-87fb-4063-9724-b7fe9414d491",
   "metadata": {},
   "outputs": [
    {
     "data": {
      "text/plain": [
       "{'alpha': 0.01}"
      ]
     },
     "execution_count": 60,
     "metadata": {},
     "output_type": "execute_result"
    }
   ],
   "source": [
    "# Best Parameters\n",
    "gscv.best_params_"
   ]
  },
  {
   "cell_type": "code",
   "execution_count": 61,
   "id": "9399fe12-c488-4fad-b5f5-d5c7049bbc68",
   "metadata": {},
   "outputs": [
    {
     "data": {
      "text/plain": [
       "0.7089214444069972"
      ]
     },
     "execution_count": 61,
     "metadata": {},
     "output_type": "execute_result"
    }
   ],
   "source": [
    "# Best Score\n",
    "gscv.best_score_"
   ]
  },
  {
   "cell_type": "markdown",
   "id": "fcea817c-e02c-430c-bb86-a32fa0cc54aa",
   "metadata": {},
   "source": [
    "### ***`Elastic Net Regularization`***"
   ]
  },
  {
   "cell_type": "code",
   "execution_count": 62,
   "id": "f80e06c6-018e-45ec-a981-44e73b21ccdc",
   "metadata": {},
   "outputs": [],
   "source": [
    "grid = {'alpha':[0.01,0.05,0.1,0.5,1],'l1_ratio':[0.05,0.1,0.15,0.2]}"
   ]
  },
  {
   "cell_type": "code",
   "execution_count": 63,
   "id": "473b1e42-48e7-4ff1-80f1-05e87674583e",
   "metadata": {},
   "outputs": [],
   "source": [
    "gscv = GridSearchCV(estimator=ElasticNet(),param_grid=grid,cv=5,scoring='r2',verbose=3)"
   ]
  },
  {
   "cell_type": "code",
   "execution_count": 64,
   "id": "48861a35-e7d9-4198-8ef7-8e8412a54bb8",
   "metadata": {},
   "outputs": [
    {
     "name": "stdout",
     "output_type": "stream",
     "text": [
      "Fitting 5 folds for each of 20 candidates, totalling 100 fits\n",
      "[CV 1/5] END .........alpha=0.01, l1_ratio=0.05;, score=0.724 total time=   0.0s\n",
      "[CV 2/5] END .........alpha=0.01, l1_ratio=0.05;, score=0.709 total time=   0.0s\n",
      "[CV 3/5] END .........alpha=0.01, l1_ratio=0.05;, score=0.723 total time=   0.0s\n",
      "[CV 4/5] END .........alpha=0.01, l1_ratio=0.05;, score=0.676 total time=   0.0s\n",
      "[CV 5/5] END .........alpha=0.01, l1_ratio=0.05;, score=0.710 total time=   0.0s\n",
      "[CV 1/5] END ..........alpha=0.01, l1_ratio=0.1;, score=0.724 total time=   0.0s\n",
      "[CV 2/5] END ..........alpha=0.01, l1_ratio=0.1;, score=0.709 total time=   0.0s\n",
      "[CV 3/5] END ..........alpha=0.01, l1_ratio=0.1;, score=0.723 total time=   0.0s\n",
      "[CV 4/5] END ..........alpha=0.01, l1_ratio=0.1;, score=0.676 total time=   0.0s\n",
      "[CV 5/5] END ..........alpha=0.01, l1_ratio=0.1;, score=0.710 total time=   0.0s\n",
      "[CV 1/5] END .........alpha=0.01, l1_ratio=0.15;, score=0.724 total time=   0.0s\n",
      "[CV 2/5] END .........alpha=0.01, l1_ratio=0.15;, score=0.708 total time=   0.0s\n",
      "[CV 3/5] END .........alpha=0.01, l1_ratio=0.15;, score=0.723 total time=   0.0s\n",
      "[CV 4/5] END .........alpha=0.01, l1_ratio=0.15;, score=0.676 total time=   0.0s\n",
      "[CV 5/5] END .........alpha=0.01, l1_ratio=0.15;, score=0.710 total time=   0.0s\n",
      "[CV 1/5] END ..........alpha=0.01, l1_ratio=0.2;, score=0.724 total time=   0.0s\n",
      "[CV 2/5] END ..........alpha=0.01, l1_ratio=0.2;, score=0.708 total time=   0.0s\n",
      "[CV 3/5] END ..........alpha=0.01, l1_ratio=0.2;, score=0.723 total time=   0.0s\n",
      "[CV 4/5] END ..........alpha=0.01, l1_ratio=0.2;, score=0.676 total time=   0.0s\n",
      "[CV 5/5] END ..........alpha=0.01, l1_ratio=0.2;, score=0.710 total time=   0.0s\n",
      "[CV 1/5] END .........alpha=0.05, l1_ratio=0.05;, score=0.715 total time=   0.0s\n",
      "[CV 2/5] END .........alpha=0.05, l1_ratio=0.05;, score=0.710 total time=   0.0s\n",
      "[CV 3/5] END .........alpha=0.05, l1_ratio=0.05;, score=0.702 total time=   0.0s\n",
      "[CV 4/5] END .........alpha=0.05, l1_ratio=0.05;, score=0.662 total time=   0.0s\n",
      "[CV 5/5] END .........alpha=0.05, l1_ratio=0.05;, score=0.701 total time=   0.0s\n",
      "[CV 1/5] END ..........alpha=0.05, l1_ratio=0.1;, score=0.715 total time=   0.0s\n",
      "[CV 2/5] END ..........alpha=0.05, l1_ratio=0.1;, score=0.711 total time=   0.0s\n",
      "[CV 3/5] END ..........alpha=0.05, l1_ratio=0.1;, score=0.704 total time=   0.0s\n",
      "[CV 4/5] END ..........alpha=0.05, l1_ratio=0.1;, score=0.663 total time=   0.0s\n",
      "[CV 5/5] END ..........alpha=0.05, l1_ratio=0.1;, score=0.702 total time=   0.0s\n",
      "[CV 1/5] END .........alpha=0.05, l1_ratio=0.15;, score=0.716 total time=   0.0s\n",
      "[CV 2/5] END .........alpha=0.05, l1_ratio=0.15;, score=0.711 total time=   0.0s\n",
      "[CV 3/5] END .........alpha=0.05, l1_ratio=0.15;, score=0.705 total time=   0.0s\n",
      "[CV 4/5] END .........alpha=0.05, l1_ratio=0.15;, score=0.664 total time=   0.0s\n",
      "[CV 5/5] END .........alpha=0.05, l1_ratio=0.15;, score=0.703 total time=   0.0s\n",
      "[CV 1/5] END ..........alpha=0.05, l1_ratio=0.2;, score=0.717 total time=   0.0s\n",
      "[CV 2/5] END ..........alpha=0.05, l1_ratio=0.2;, score=0.711 total time=   0.0s\n",
      "[CV 3/5] END ..........alpha=0.05, l1_ratio=0.2;, score=0.707 total time=   0.0s\n",
      "[CV 4/5] END ..........alpha=0.05, l1_ratio=0.2;, score=0.665 total time=   0.0s\n",
      "[CV 5/5] END ..........alpha=0.05, l1_ratio=0.2;, score=0.703 total time=   0.0s\n",
      "[CV 1/5] END ..........alpha=0.1, l1_ratio=0.05;, score=0.696 total time=   0.0s\n",
      "[CV 2/5] END ..........alpha=0.1, l1_ratio=0.05;, score=0.702 total time=   0.0s\n",
      "[CV 3/5] END ..........alpha=0.1, l1_ratio=0.05;, score=0.674 total time=   0.0s\n",
      "[CV 4/5] END ..........alpha=0.1, l1_ratio=0.05;, score=0.641 total time=   0.0s\n",
      "[CV 5/5] END ..........alpha=0.1, l1_ratio=0.05;, score=0.682 total time=   0.0s\n",
      "[CV 1/5] END ...........alpha=0.1, l1_ratio=0.1;, score=0.698 total time=   0.0s\n",
      "[CV 2/5] END ...........alpha=0.1, l1_ratio=0.1;, score=0.703 total time=   0.0s\n",
      "[CV 3/5] END ...........alpha=0.1, l1_ratio=0.1;, score=0.677 total time=   0.0s\n",
      "[CV 4/5] END ...........alpha=0.1, l1_ratio=0.1;, score=0.643 total time=   0.0s\n",
      "[CV 5/5] END ...........alpha=0.1, l1_ratio=0.1;, score=0.684 total time=   0.0s\n",
      "[CV 1/5] END ..........alpha=0.1, l1_ratio=0.15;, score=0.700 total time=   0.0s\n",
      "[CV 2/5] END ..........alpha=0.1, l1_ratio=0.15;, score=0.704 total time=   0.0s\n",
      "[CV 3/5] END ..........alpha=0.1, l1_ratio=0.15;, score=0.680 total time=   0.0s\n",
      "[CV 4/5] END ..........alpha=0.1, l1_ratio=0.15;, score=0.645 total time=   0.0s\n",
      "[CV 5/5] END ..........alpha=0.1, l1_ratio=0.15;, score=0.686 total time=   0.0s\n",
      "[CV 1/5] END ...........alpha=0.1, l1_ratio=0.2;, score=0.702 total time=   0.0s\n",
      "[CV 2/5] END ...........alpha=0.1, l1_ratio=0.2;, score=0.705 total time=   0.0s\n",
      "[CV 3/5] END ...........alpha=0.1, l1_ratio=0.2;, score=0.682 total time=   0.0s\n",
      "[CV 4/5] END ...........alpha=0.1, l1_ratio=0.2;, score=0.647 total time=   0.0s\n",
      "[CV 5/5] END ...........alpha=0.1, l1_ratio=0.2;, score=0.688 total time=   0.0s\n",
      "[CV 1/5] END ..........alpha=0.5, l1_ratio=0.05;, score=0.592 total time=   0.0s\n",
      "[CV 2/5] END ..........alpha=0.5, l1_ratio=0.05;, score=0.630 total time=   0.0s\n",
      "[CV 3/5] END ..........alpha=0.5, l1_ratio=0.05;, score=0.544 total time=   0.0s\n",
      "[CV 4/5] END ..........alpha=0.5, l1_ratio=0.05;, score=0.532 total time=   0.0s\n",
      "[CV 5/5] END ..........alpha=0.5, l1_ratio=0.05;, score=0.575 total time=   0.0s\n",
      "[CV 1/5] END ...........alpha=0.5, l1_ratio=0.1;, score=0.595 total time=   0.0s\n",
      "[CV 2/5] END ...........alpha=0.5, l1_ratio=0.1;, score=0.632 total time=   0.0s\n",
      "[CV 3/5] END ...........alpha=0.5, l1_ratio=0.1;, score=0.548 total time=   0.0s\n",
      "[CV 4/5] END ...........alpha=0.5, l1_ratio=0.1;, score=0.536 total time=   0.0s\n",
      "[CV 5/5] END ...........alpha=0.5, l1_ratio=0.1;, score=0.579 total time=   0.0s\n",
      "[CV 1/5] END ..........alpha=0.5, l1_ratio=0.15;, score=0.599 total time=   0.0s\n",
      "[CV 2/5] END ..........alpha=0.5, l1_ratio=0.15;, score=0.635 total time=   0.0s\n",
      "[CV 3/5] END ..........alpha=0.5, l1_ratio=0.15;, score=0.552 total time=   0.0s\n",
      "[CV 4/5] END ..........alpha=0.5, l1_ratio=0.15;, score=0.539 total time=   0.0s\n",
      "[CV 5/5] END ..........alpha=0.5, l1_ratio=0.15;, score=0.583 total time=   0.0s\n",
      "[CV 1/5] END ...........alpha=0.5, l1_ratio=0.2;, score=0.603 total time=   0.0s\n",
      "[CV 2/5] END ...........alpha=0.5, l1_ratio=0.2;, score=0.638 total time=   0.0s\n",
      "[CV 3/5] END ...........alpha=0.5, l1_ratio=0.2;, score=0.556 total time=   0.0s\n",
      "[CV 4/5] END ...........alpha=0.5, l1_ratio=0.2;, score=0.543 total time=   0.0s\n",
      "[CV 5/5] END ...........alpha=0.5, l1_ratio=0.2;, score=0.586 total time=   0.0s\n",
      "[CV 1/5] END ............alpha=1, l1_ratio=0.05;, score=0.543 total time=   0.0s\n",
      "[CV 2/5] END ............alpha=1, l1_ratio=0.05;, score=0.591 total time=   0.0s\n",
      "[CV 3/5] END ............alpha=1, l1_ratio=0.05;, score=0.489 total time=   0.0s\n",
      "[CV 4/5] END ............alpha=1, l1_ratio=0.05;, score=0.486 total time=   0.0s\n",
      "[CV 5/5] END ............alpha=1, l1_ratio=0.05;, score=0.525 total time=   0.0s\n",
      "[CV 1/5] END .............alpha=1, l1_ratio=0.1;, score=0.545 total time=   0.0s\n",
      "[CV 2/5] END .............alpha=1, l1_ratio=0.1;, score=0.593 total time=   0.0s\n",
      "[CV 3/5] END .............alpha=1, l1_ratio=0.1;, score=0.491 total time=   0.0s\n",
      "[CV 4/5] END .............alpha=1, l1_ratio=0.1;, score=0.488 total time=   0.0s\n",
      "[CV 5/5] END .............alpha=1, l1_ratio=0.1;, score=0.528 total time=   0.0s\n",
      "[CV 1/5] END ............alpha=1, l1_ratio=0.15;, score=0.548 total time=   0.0s\n",
      "[CV 2/5] END ............alpha=1, l1_ratio=0.15;, score=0.595 total time=   0.0s\n",
      "[CV 3/5] END ............alpha=1, l1_ratio=0.15;, score=0.494 total time=   0.0s\n",
      "[CV 4/5] END ............alpha=1, l1_ratio=0.15;, score=0.490 total time=   0.0s\n",
      "[CV 5/5] END ............alpha=1, l1_ratio=0.15;, score=0.530 total time=   0.0s\n",
      "[CV 1/5] END .............alpha=1, l1_ratio=0.2;, score=0.551 total time=   0.0s\n",
      "[CV 2/5] END .............alpha=1, l1_ratio=0.2;, score=0.597 total time=   0.0s\n",
      "[CV 3/5] END .............alpha=1, l1_ratio=0.2;, score=0.497 total time=   0.0s\n",
      "[CV 4/5] END .............alpha=1, l1_ratio=0.2;, score=0.493 total time=   0.0s\n",
      "[CV 5/5] END .............alpha=1, l1_ratio=0.2;, score=0.533 total time=   0.0s\n"
     ]
    },
    {
     "data": {
      "text/html": [
       "<style>#sk-container-id-3 {color: black;background-color: white;}#sk-container-id-3 pre{padding: 0;}#sk-container-id-3 div.sk-toggleable {background-color: white;}#sk-container-id-3 label.sk-toggleable__label {cursor: pointer;display: block;width: 100%;margin-bottom: 0;padding: 0.3em;box-sizing: border-box;text-align: center;}#sk-container-id-3 label.sk-toggleable__label-arrow:before {content: \"▸\";float: left;margin-right: 0.25em;color: #696969;}#sk-container-id-3 label.sk-toggleable__label-arrow:hover:before {color: black;}#sk-container-id-3 div.sk-estimator:hover label.sk-toggleable__label-arrow:before {color: black;}#sk-container-id-3 div.sk-toggleable__content {max-height: 0;max-width: 0;overflow: hidden;text-align: left;background-color: #f0f8ff;}#sk-container-id-3 div.sk-toggleable__content pre {margin: 0.2em;color: black;border-radius: 0.25em;background-color: #f0f8ff;}#sk-container-id-3 input.sk-toggleable__control:checked~div.sk-toggleable__content {max-height: 200px;max-width: 100%;overflow: auto;}#sk-container-id-3 input.sk-toggleable__control:checked~label.sk-toggleable__label-arrow:before {content: \"▾\";}#sk-container-id-3 div.sk-estimator input.sk-toggleable__control:checked~label.sk-toggleable__label {background-color: #d4ebff;}#sk-container-id-3 div.sk-label input.sk-toggleable__control:checked~label.sk-toggleable__label {background-color: #d4ebff;}#sk-container-id-3 input.sk-hidden--visually {border: 0;clip: rect(1px 1px 1px 1px);clip: rect(1px, 1px, 1px, 1px);height: 1px;margin: -1px;overflow: hidden;padding: 0;position: absolute;width: 1px;}#sk-container-id-3 div.sk-estimator {font-family: monospace;background-color: #f0f8ff;border: 1px dotted black;border-radius: 0.25em;box-sizing: border-box;margin-bottom: 0.5em;}#sk-container-id-3 div.sk-estimator:hover {background-color: #d4ebff;}#sk-container-id-3 div.sk-parallel-item::after {content: \"\";width: 100%;border-bottom: 1px solid gray;flex-grow: 1;}#sk-container-id-3 div.sk-label:hover label.sk-toggleable__label {background-color: #d4ebff;}#sk-container-id-3 div.sk-serial::before {content: \"\";position: absolute;border-left: 1px solid gray;box-sizing: border-box;top: 0;bottom: 0;left: 50%;z-index: 0;}#sk-container-id-3 div.sk-serial {display: flex;flex-direction: column;align-items: center;background-color: white;padding-right: 0.2em;padding-left: 0.2em;position: relative;}#sk-container-id-3 div.sk-item {position: relative;z-index: 1;}#sk-container-id-3 div.sk-parallel {display: flex;align-items: stretch;justify-content: center;background-color: white;position: relative;}#sk-container-id-3 div.sk-item::before, #sk-container-id-3 div.sk-parallel-item::before {content: \"\";position: absolute;border-left: 1px solid gray;box-sizing: border-box;top: 0;bottom: 0;left: 50%;z-index: -1;}#sk-container-id-3 div.sk-parallel-item {display: flex;flex-direction: column;z-index: 1;position: relative;background-color: white;}#sk-container-id-3 div.sk-parallel-item:first-child::after {align-self: flex-end;width: 50%;}#sk-container-id-3 div.sk-parallel-item:last-child::after {align-self: flex-start;width: 50%;}#sk-container-id-3 div.sk-parallel-item:only-child::after {width: 0;}#sk-container-id-3 div.sk-dashed-wrapped {border: 1px dashed gray;margin: 0 0.4em 0.5em 0.4em;box-sizing: border-box;padding-bottom: 0.4em;background-color: white;}#sk-container-id-3 div.sk-label label {font-family: monospace;font-weight: bold;display: inline-block;line-height: 1.2em;}#sk-container-id-3 div.sk-label-container {text-align: center;}#sk-container-id-3 div.sk-container {/* jupyter's `normalize.less` sets `[hidden] { display: none; }` but bootstrap.min.css set `[hidden] { display: none !important; }` so we also need the `!important` here to be able to override the default hidden behavior on the sphinx rendered scikit-learn.org. See: https://github.com/scikit-learn/scikit-learn/issues/21755 */display: inline-block !important;position: relative;}#sk-container-id-3 div.sk-text-repr-fallback {display: none;}</style><div id=\"sk-container-id-3\" class=\"sk-top-container\"><div class=\"sk-text-repr-fallback\"><pre>GridSearchCV(cv=5, estimator=ElasticNet(),\n",
       "             param_grid={&#x27;alpha&#x27;: [0.01, 0.05, 0.1, 0.5, 1],\n",
       "                         &#x27;l1_ratio&#x27;: [0.05, 0.1, 0.15, 0.2]},\n",
       "             scoring=&#x27;r2&#x27;, verbose=3)</pre><b>In a Jupyter environment, please rerun this cell to show the HTML representation or trust the notebook. <br />On GitHub, the HTML representation is unable to render, please try loading this page with nbviewer.org.</b></div><div class=\"sk-container\" hidden><div class=\"sk-item sk-dashed-wrapped\"><div class=\"sk-label-container\"><div class=\"sk-label sk-toggleable\"><input class=\"sk-toggleable__control sk-hidden--visually\" id=\"sk-estimator-id-7\" type=\"checkbox\" ><label for=\"sk-estimator-id-7\" class=\"sk-toggleable__label sk-toggleable__label-arrow\">GridSearchCV</label><div class=\"sk-toggleable__content\"><pre>GridSearchCV(cv=5, estimator=ElasticNet(),\n",
       "             param_grid={&#x27;alpha&#x27;: [0.01, 0.05, 0.1, 0.5, 1],\n",
       "                         &#x27;l1_ratio&#x27;: [0.05, 0.1, 0.15, 0.2]},\n",
       "             scoring=&#x27;r2&#x27;, verbose=3)</pre></div></div></div><div class=\"sk-parallel\"><div class=\"sk-parallel-item\"><div class=\"sk-item\"><div class=\"sk-label-container\"><div class=\"sk-label sk-toggleable\"><input class=\"sk-toggleable__control sk-hidden--visually\" id=\"sk-estimator-id-8\" type=\"checkbox\" ><label for=\"sk-estimator-id-8\" class=\"sk-toggleable__label sk-toggleable__label-arrow\">estimator: ElasticNet</label><div class=\"sk-toggleable__content\"><pre>ElasticNet()</pre></div></div></div><div class=\"sk-serial\"><div class=\"sk-item\"><div class=\"sk-estimator sk-toggleable\"><input class=\"sk-toggleable__control sk-hidden--visually\" id=\"sk-estimator-id-9\" type=\"checkbox\" ><label for=\"sk-estimator-id-9\" class=\"sk-toggleable__label sk-toggleable__label-arrow\">ElasticNet</label><div class=\"sk-toggleable__content\"><pre>ElasticNet()</pre></div></div></div></div></div></div></div></div></div></div>"
      ],
      "text/plain": [
       "GridSearchCV(cv=5, estimator=ElasticNet(),\n",
       "             param_grid={'alpha': [0.01, 0.05, 0.1, 0.5, 1],\n",
       "                         'l1_ratio': [0.05, 0.1, 0.15, 0.2]},\n",
       "             scoring='r2', verbose=3)"
      ]
     },
     "execution_count": 64,
     "metadata": {},
     "output_type": "execute_result"
    }
   ],
   "source": [
    "gscv.fit(x_train,y_train)"
   ]
  },
  {
   "cell_type": "code",
   "execution_count": 65,
   "id": "63228406-316f-4967-a600-968fb5daf02d",
   "metadata": {},
   "outputs": [
    {
     "data": {
      "text/plain": [
       "{'alpha': 0.01, 'l1_ratio': 0.2}"
      ]
     },
     "execution_count": 65,
     "metadata": {},
     "output_type": "execute_result"
    }
   ],
   "source": [
    "# Best Parameters\n",
    "gscv.best_params_"
   ]
  },
  {
   "cell_type": "code",
   "execution_count": 66,
   "id": "e8fc84fa-c106-4484-b26e-2c867a35e1da",
   "metadata": {},
   "outputs": [
    {
     "data": {
      "text/plain": [
       "0.7084704400635264"
      ]
     },
     "execution_count": 66,
     "metadata": {},
     "output_type": "execute_result"
    }
   ],
   "source": [
    "# Best Score\n",
    "gscv.best_score_"
   ]
  },
  {
   "cell_type": "markdown",
   "id": "64923109-0c51-4199-b014-76cdf9ae2774",
   "metadata": {},
   "source": [
    "# ***`Gradient Descent`***"
   ]
  },
  {
   "cell_type": "code",
   "execution_count": 67,
   "id": "3985da8f-1f66-49d5-981f-33d7d153dbe0",
   "metadata": {},
   "outputs": [
    {
     "name": "stdout",
     "output_type": "stream",
     "text": [
      "OLS: Train Score: 0.7143103932676484\n",
      "OLS: Test Score: 0.6970935894657555\n"
     ]
    }
   ],
   "source": [
    "# Check Scores from OLS Model\n",
    "print('OLS: Train Score:',model_lr.score(x_train,y_train))\n",
    "print('OLS: Test Score:',model_lr.score(x_test,y_test))"
   ]
  },
  {
   "cell_type": "code",
   "execution_count": 68,
   "id": "d51b40c4-51e6-4416-84ba-b6ca250f3356",
   "metadata": {},
   "outputs": [
    {
     "data": {
      "text/html": [
       "<div>\n",
       "<style scoped>\n",
       "    .dataframe tbody tr th:only-of-type {\n",
       "        vertical-align: middle;\n",
       "    }\n",
       "\n",
       "    .dataframe tbody tr th {\n",
       "        vertical-align: top;\n",
       "    }\n",
       "\n",
       "    .dataframe thead th {\n",
       "        text-align: right;\n",
       "    }\n",
       "</style>\n",
       "<table border=\"1\" class=\"dataframe\">\n",
       "  <thead>\n",
       "    <tr style=\"text-align: right;\">\n",
       "      <th></th>\n",
       "      <th>Coef</th>\n",
       "    </tr>\n",
       "  </thead>\n",
       "  <tbody>\n",
       "    <tr>\n",
       "      <th>Blast Furnace Slag</th>\n",
       "      <td>0.080493</td>\n",
       "    </tr>\n",
       "    <tr>\n",
       "      <th>Fly Ash</th>\n",
       "      <td>0.078325</td>\n",
       "    </tr>\n",
       "    <tr>\n",
       "      <th>Superplasticizer</th>\n",
       "      <td>0.201586</td>\n",
       "    </tr>\n",
       "    <tr>\n",
       "      <th>Age</th>\n",
       "      <td>0.239704</td>\n",
       "    </tr>\n",
       "    <tr>\n",
       "      <th>Cement Water Ratio</th>\n",
       "      <td>19.145826</td>\n",
       "    </tr>\n",
       "  </tbody>\n",
       "</table>\n",
       "</div>"
      ],
      "text/plain": [
       "                          Coef\n",
       "Blast Furnace Slag    0.080493\n",
       "Fly Ash               0.078325\n",
       "Superplasticizer      0.201586\n",
       "Age                   0.239704\n",
       "Cement Water Ratio   19.145826"
      ]
     },
     "execution_count": 68,
     "metadata": {},
     "output_type": "execute_result"
    }
   ],
   "source": [
    "pd.DataFrame({'Coef':model_lr.coef_},index=x.columns)"
   ]
  },
  {
   "cell_type": "code",
   "execution_count": 69,
   "id": "eb6f55ef-da64-48a8-a0c2-5904d66ad50b",
   "metadata": {},
   "outputs": [],
   "source": [
    "from sklearn.linear_model import SGDRegressor\n",
    "from sklearn.preprocessing import StandardScaler"
   ]
  },
  {
   "cell_type": "code",
   "execution_count": 70,
   "id": "0a2fc691-76ed-4ce7-a058-1919618b6661",
   "metadata": {},
   "outputs": [],
   "source": [
    "# Use the Scaled Data\n",
    "sc = StandardScaler()\n",
    "x_train_s = sc.fit_transform(x_train)\n",
    "x_test_s = sc.transform(x_test)"
   ]
  },
  {
   "cell_type": "code",
   "execution_count": 71,
   "id": "eaf54b37-afab-47af-a6d4-bf700bc81b25",
   "metadata": {},
   "outputs": [
    {
     "data": {
      "text/plain": [
       "array([71.10315  , 54.1479375,  5.8753225, 38.453125 ,  1.5673213])"
      ]
     },
     "execution_count": 71,
     "metadata": {},
     "output_type": "execute_result"
    }
   ],
   "source": [
    "sc.mean_"
   ]
  },
  {
   "cell_type": "code",
   "execution_count": 72,
   "id": "1094de57-33cf-4d71-8e5d-9f854645afc4",
   "metadata": {},
   "outputs": [
    {
     "data": {
      "text/plain": [
       "array([85.9679271 , 64.29285789,  5.80819153, 36.66176469,  0.63478806])"
      ]
     },
     "execution_count": 72,
     "metadata": {},
     "output_type": "execute_result"
    }
   ],
   "source": [
    "sc.scale_"
   ]
  },
  {
   "cell_type": "code",
   "execution_count": 73,
   "id": "f93fc66b-2125-472d-b4fb-fedb54df357b",
   "metadata": {},
   "outputs": [],
   "source": [
    "x_train_s = pd.DataFrame(x_train_s,columns=x.columns)\n",
    "x_test_s = pd.DataFrame(x_test_s,columns=x.columns)"
   ]
  },
  {
   "cell_type": "code",
   "execution_count": 74,
   "id": "d9929b9c-27e0-42d3-a010-2945c695d692",
   "metadata": {},
   "outputs": [
    {
     "data": {
      "text/html": [
       "<div>\n",
       "<style scoped>\n",
       "    .dataframe tbody tr th:only-of-type {\n",
       "        vertical-align: middle;\n",
       "    }\n",
       "\n",
       "    .dataframe tbody tr th {\n",
       "        vertical-align: top;\n",
       "    }\n",
       "\n",
       "    .dataframe thead th {\n",
       "        text-align: right;\n",
       "    }\n",
       "</style>\n",
       "<table border=\"1\" class=\"dataframe\">\n",
       "  <thead>\n",
       "    <tr style=\"text-align: right;\">\n",
       "      <th></th>\n",
       "      <th>Blast Furnace Slag</th>\n",
       "      <th>Fly Ash</th>\n",
       "      <th>Superplasticizer</th>\n",
       "      <th>Age</th>\n",
       "      <th>Cement Water Ratio</th>\n",
       "    </tr>\n",
       "  </thead>\n",
       "  <tbody>\n",
       "    <tr>\n",
       "      <th>0</th>\n",
       "      <td>-0.337604</td>\n",
       "      <td>1.705976</td>\n",
       "      <td>-0.026742</td>\n",
       "      <td>-0.967033</td>\n",
       "      <td>-0.387652</td>\n",
       "    </tr>\n",
       "    <tr>\n",
       "      <th>1</th>\n",
       "      <td>-0.827089</td>\n",
       "      <td>-0.842208</td>\n",
       "      <td>-1.011558</td>\n",
       "      <td>-0.285123</td>\n",
       "      <td>0.707020</td>\n",
       "    </tr>\n",
       "    <tr>\n",
       "      <th>2</th>\n",
       "      <td>-0.827089</td>\n",
       "      <td>1.867891</td>\n",
       "      <td>0.995952</td>\n",
       "      <td>-0.285123</td>\n",
       "      <td>-0.293685</td>\n",
       "    </tr>\n",
       "    <tr>\n",
       "      <th>3</th>\n",
       "      <td>0.683939</td>\n",
       "      <td>1.158326</td>\n",
       "      <td>0.329651</td>\n",
       "      <td>-0.666993</td>\n",
       "      <td>-0.966532</td>\n",
       "    </tr>\n",
       "    <tr>\n",
       "      <th>4</th>\n",
       "      <td>3.316898</td>\n",
       "      <td>-0.842208</td>\n",
       "      <td>-1.011558</td>\n",
       "      <td>-0.857927</td>\n",
       "      <td>-0.436474</td>\n",
       "    </tr>\n",
       "    <tr>\n",
       "      <th>...</th>\n",
       "      <td>...</td>\n",
       "      <td>...</td>\n",
       "      <td>...</td>\n",
       "      <td>...</td>\n",
       "      <td>...</td>\n",
       "    </tr>\n",
       "    <tr>\n",
       "      <th>795</th>\n",
       "      <td>1.288816</td>\n",
       "      <td>-0.842208</td>\n",
       "      <td>-1.011558</td>\n",
       "      <td>-0.857927</td>\n",
       "      <td>-0.154832</td>\n",
       "    </tr>\n",
       "    <tr>\n",
       "      <th>796</th>\n",
       "      <td>-0.827089</td>\n",
       "      <td>-0.842208</td>\n",
       "      <td>-1.011558</td>\n",
       "      <td>1.406012</td>\n",
       "      <td>-0.552667</td>\n",
       "    </tr>\n",
       "    <tr>\n",
       "      <th>797</th>\n",
       "      <td>-0.699135</td>\n",
       "      <td>1.350882</td>\n",
       "      <td>-0.715424</td>\n",
       "      <td>-0.857927</td>\n",
       "      <td>-0.924307</td>\n",
       "    </tr>\n",
       "    <tr>\n",
       "      <th>798</th>\n",
       "      <td>-0.827089</td>\n",
       "      <td>-0.842208</td>\n",
       "      <td>-1.011558</td>\n",
       "      <td>-0.967033</td>\n",
       "      <td>-0.376813</td>\n",
       "    </tr>\n",
       "    <tr>\n",
       "      <th>799</th>\n",
       "      <td>-0.827089</td>\n",
       "      <td>0.628873</td>\n",
       "      <td>-0.225255</td>\n",
       "      <td>0.478615</td>\n",
       "      <td>-0.607772</td>\n",
       "    </tr>\n",
       "  </tbody>\n",
       "</table>\n",
       "<p>800 rows × 5 columns</p>\n",
       "</div>"
      ],
      "text/plain": [
       "     Blast Furnace Slag   Fly Ash   Superplasticizer      Age   \\\n",
       "0              -0.337604  1.705976         -0.026742 -0.967033   \n",
       "1              -0.827089 -0.842208         -1.011558 -0.285123   \n",
       "2              -0.827089  1.867891          0.995952 -0.285123   \n",
       "3               0.683939  1.158326          0.329651 -0.666993   \n",
       "4               3.316898 -0.842208         -1.011558 -0.857927   \n",
       "..                   ...       ...               ...       ...   \n",
       "795             1.288816 -0.842208         -1.011558 -0.857927   \n",
       "796            -0.827089 -0.842208         -1.011558  1.406012   \n",
       "797            -0.699135  1.350882         -0.715424 -0.857927   \n",
       "798            -0.827089 -0.842208         -1.011558 -0.967033   \n",
       "799            -0.827089  0.628873         -0.225255  0.478615   \n",
       "\n",
       "     Cement Water Ratio  \n",
       "0             -0.387652  \n",
       "1              0.707020  \n",
       "2             -0.293685  \n",
       "3             -0.966532  \n",
       "4             -0.436474  \n",
       "..                  ...  \n",
       "795           -0.154832  \n",
       "796           -0.552667  \n",
       "797           -0.924307  \n",
       "798           -0.376813  \n",
       "799           -0.607772  \n",
       "\n",
       "[800 rows x 5 columns]"
      ]
     },
     "execution_count": 74,
     "metadata": {},
     "output_type": "execute_result"
    }
   ],
   "source": [
    "x_train_s"
   ]
  },
  {
   "cell_type": "code",
   "execution_count": 75,
   "id": "47291289-a7fa-4130-9011-934d2974ba20",
   "metadata": {},
   "outputs": [
    {
     "data": {
      "text/html": [
       "<div>\n",
       "<style scoped>\n",
       "    .dataframe tbody tr th:only-of-type {\n",
       "        vertical-align: middle;\n",
       "    }\n",
       "\n",
       "    .dataframe tbody tr th {\n",
       "        vertical-align: top;\n",
       "    }\n",
       "\n",
       "    .dataframe thead th {\n",
       "        text-align: right;\n",
       "    }\n",
       "</style>\n",
       "<table border=\"1\" class=\"dataframe\">\n",
       "  <thead>\n",
       "    <tr style=\"text-align: right;\">\n",
       "      <th></th>\n",
       "      <th>Blast Furnace Slag</th>\n",
       "      <th>Fly Ash</th>\n",
       "      <th>Superplasticizer</th>\n",
       "      <th>Age</th>\n",
       "      <th>Cement Water Ratio</th>\n",
       "    </tr>\n",
       "  </thead>\n",
       "  <tbody>\n",
       "    <tr>\n",
       "      <th>0</th>\n",
       "      <td>0.830506</td>\n",
       "      <td>-0.842208</td>\n",
       "      <td>-1.011558</td>\n",
       "      <td>1.406012</td>\n",
       "      <td>-0.171692</td>\n",
       "    </tr>\n",
       "    <tr>\n",
       "      <th>1</th>\n",
       "      <td>-0.244895</td>\n",
       "      <td>1.856848</td>\n",
       "      <td>0.102386</td>\n",
       "      <td>-0.666993</td>\n",
       "      <td>-0.809870</td>\n",
       "    </tr>\n",
       "    <tr>\n",
       "      <th>2</th>\n",
       "      <td>0.667654</td>\n",
       "      <td>1.212453</td>\n",
       "      <td>0.379581</td>\n",
       "      <td>-0.285123</td>\n",
       "      <td>-0.984246</td>\n",
       "    </tr>\n",
       "    <tr>\n",
       "      <th>3</th>\n",
       "      <td>0.667654</td>\n",
       "      <td>1.212453</td>\n",
       "      <td>0.379581</td>\n",
       "      <td>-0.666993</td>\n",
       "      <td>-0.984246</td>\n",
       "    </tr>\n",
       "    <tr>\n",
       "      <th>4</th>\n",
       "      <td>-0.827089</td>\n",
       "      <td>-0.842208</td>\n",
       "      <td>-1.011558</td>\n",
       "      <td>-0.666993</td>\n",
       "      <td>0.241799</td>\n",
       "    </tr>\n",
       "    <tr>\n",
       "      <th>...</th>\n",
       "      <td>...</td>\n",
       "      <td>...</td>\n",
       "      <td>...</td>\n",
       "      <td>...</td>\n",
       "      <td>...</td>\n",
       "    </tr>\n",
       "    <tr>\n",
       "      <th>200</th>\n",
       "      <td>0.952644</td>\n",
       "      <td>-0.842208</td>\n",
       "      <td>-1.011558</td>\n",
       "      <td>-0.285123</td>\n",
       "      <td>-1.632153</td>\n",
       "    </tr>\n",
       "    <tr>\n",
       "      <th>201</th>\n",
       "      <td>-0.827089</td>\n",
       "      <td>1.108242</td>\n",
       "      <td>0.326208</td>\n",
       "      <td>-0.967033</td>\n",
       "      <td>-0.616427</td>\n",
       "    </tr>\n",
       "    <tr>\n",
       "      <th>202</th>\n",
       "      <td>1.113169</td>\n",
       "      <td>-0.842208</td>\n",
       "      <td>-1.011558</td>\n",
       "      <td>-0.285123</td>\n",
       "      <td>-0.532205</td>\n",
       "    </tr>\n",
       "    <tr>\n",
       "      <th>203</th>\n",
       "      <td>-0.547915</td>\n",
       "      <td>0.386545</td>\n",
       "      <td>0.992508</td>\n",
       "      <td>-0.857927</td>\n",
       "      <td>1.867970</td>\n",
       "    </tr>\n",
       "    <tr>\n",
       "      <th>204</th>\n",
       "      <td>1.266715</td>\n",
       "      <td>0.635406</td>\n",
       "      <td>0.615454</td>\n",
       "      <td>-0.285123</td>\n",
       "      <td>0.007886</td>\n",
       "    </tr>\n",
       "  </tbody>\n",
       "</table>\n",
       "<p>205 rows × 5 columns</p>\n",
       "</div>"
      ],
      "text/plain": [
       "     Blast Furnace Slag   Fly Ash   Superplasticizer      Age   \\\n",
       "0               0.830506 -0.842208         -1.011558  1.406012   \n",
       "1              -0.244895  1.856848          0.102386 -0.666993   \n",
       "2               0.667654  1.212453          0.379581 -0.285123   \n",
       "3               0.667654  1.212453          0.379581 -0.666993   \n",
       "4              -0.827089 -0.842208         -1.011558 -0.666993   \n",
       "..                   ...       ...               ...       ...   \n",
       "200             0.952644 -0.842208         -1.011558 -0.285123   \n",
       "201            -0.827089  1.108242          0.326208 -0.967033   \n",
       "202             1.113169 -0.842208         -1.011558 -0.285123   \n",
       "203            -0.547915  0.386545          0.992508 -0.857927   \n",
       "204             1.266715  0.635406          0.615454 -0.285123   \n",
       "\n",
       "     Cement Water Ratio  \n",
       "0             -0.171692  \n",
       "1             -0.809870  \n",
       "2             -0.984246  \n",
       "3             -0.984246  \n",
       "4              0.241799  \n",
       "..                  ...  \n",
       "200           -1.632153  \n",
       "201           -0.616427  \n",
       "202           -0.532205  \n",
       "203            1.867970  \n",
       "204            0.007886  \n",
       "\n",
       "[205 rows x 5 columns]"
      ]
     },
     "execution_count": 75,
     "metadata": {},
     "output_type": "execute_result"
    }
   ],
   "source": [
    "x_test_s"
   ]
  },
  {
   "cell_type": "code",
   "execution_count": 76,
   "id": "4e1e0a42-3161-4d94-9412-fc7f993d9ab2",
   "metadata": {},
   "outputs": [],
   "source": [
    "model_sgd = SGDRegressor(eta0=0.1,alpha=0.01)"
   ]
  },
  {
   "cell_type": "code",
   "execution_count": 77,
   "id": "f35f8f0f-b4b5-4094-966d-be1126cf9a47",
   "metadata": {},
   "outputs": [
    {
     "data": {
      "text/html": [
       "<style>#sk-container-id-4 {color: black;background-color: white;}#sk-container-id-4 pre{padding: 0;}#sk-container-id-4 div.sk-toggleable {background-color: white;}#sk-container-id-4 label.sk-toggleable__label {cursor: pointer;display: block;width: 100%;margin-bottom: 0;padding: 0.3em;box-sizing: border-box;text-align: center;}#sk-container-id-4 label.sk-toggleable__label-arrow:before {content: \"▸\";float: left;margin-right: 0.25em;color: #696969;}#sk-container-id-4 label.sk-toggleable__label-arrow:hover:before {color: black;}#sk-container-id-4 div.sk-estimator:hover label.sk-toggleable__label-arrow:before {color: black;}#sk-container-id-4 div.sk-toggleable__content {max-height: 0;max-width: 0;overflow: hidden;text-align: left;background-color: #f0f8ff;}#sk-container-id-4 div.sk-toggleable__content pre {margin: 0.2em;color: black;border-radius: 0.25em;background-color: #f0f8ff;}#sk-container-id-4 input.sk-toggleable__control:checked~div.sk-toggleable__content {max-height: 200px;max-width: 100%;overflow: auto;}#sk-container-id-4 input.sk-toggleable__control:checked~label.sk-toggleable__label-arrow:before {content: \"▾\";}#sk-container-id-4 div.sk-estimator input.sk-toggleable__control:checked~label.sk-toggleable__label {background-color: #d4ebff;}#sk-container-id-4 div.sk-label input.sk-toggleable__control:checked~label.sk-toggleable__label {background-color: #d4ebff;}#sk-container-id-4 input.sk-hidden--visually {border: 0;clip: rect(1px 1px 1px 1px);clip: rect(1px, 1px, 1px, 1px);height: 1px;margin: -1px;overflow: hidden;padding: 0;position: absolute;width: 1px;}#sk-container-id-4 div.sk-estimator {font-family: monospace;background-color: #f0f8ff;border: 1px dotted black;border-radius: 0.25em;box-sizing: border-box;margin-bottom: 0.5em;}#sk-container-id-4 div.sk-estimator:hover {background-color: #d4ebff;}#sk-container-id-4 div.sk-parallel-item::after {content: \"\";width: 100%;border-bottom: 1px solid gray;flex-grow: 1;}#sk-container-id-4 div.sk-label:hover label.sk-toggleable__label {background-color: #d4ebff;}#sk-container-id-4 div.sk-serial::before {content: \"\";position: absolute;border-left: 1px solid gray;box-sizing: border-box;top: 0;bottom: 0;left: 50%;z-index: 0;}#sk-container-id-4 div.sk-serial {display: flex;flex-direction: column;align-items: center;background-color: white;padding-right: 0.2em;padding-left: 0.2em;position: relative;}#sk-container-id-4 div.sk-item {position: relative;z-index: 1;}#sk-container-id-4 div.sk-parallel {display: flex;align-items: stretch;justify-content: center;background-color: white;position: relative;}#sk-container-id-4 div.sk-item::before, #sk-container-id-4 div.sk-parallel-item::before {content: \"\";position: absolute;border-left: 1px solid gray;box-sizing: border-box;top: 0;bottom: 0;left: 50%;z-index: -1;}#sk-container-id-4 div.sk-parallel-item {display: flex;flex-direction: column;z-index: 1;position: relative;background-color: white;}#sk-container-id-4 div.sk-parallel-item:first-child::after {align-self: flex-end;width: 50%;}#sk-container-id-4 div.sk-parallel-item:last-child::after {align-self: flex-start;width: 50%;}#sk-container-id-4 div.sk-parallel-item:only-child::after {width: 0;}#sk-container-id-4 div.sk-dashed-wrapped {border: 1px dashed gray;margin: 0 0.4em 0.5em 0.4em;box-sizing: border-box;padding-bottom: 0.4em;background-color: white;}#sk-container-id-4 div.sk-label label {font-family: monospace;font-weight: bold;display: inline-block;line-height: 1.2em;}#sk-container-id-4 div.sk-label-container {text-align: center;}#sk-container-id-4 div.sk-container {/* jupyter's `normalize.less` sets `[hidden] { display: none; }` but bootstrap.min.css set `[hidden] { display: none !important; }` so we also need the `!important` here to be able to override the default hidden behavior on the sphinx rendered scikit-learn.org. See: https://github.com/scikit-learn/scikit-learn/issues/21755 */display: inline-block !important;position: relative;}#sk-container-id-4 div.sk-text-repr-fallback {display: none;}</style><div id=\"sk-container-id-4\" class=\"sk-top-container\"><div class=\"sk-text-repr-fallback\"><pre>SGDRegressor(alpha=0.01, eta0=0.1)</pre><b>In a Jupyter environment, please rerun this cell to show the HTML representation or trust the notebook. <br />On GitHub, the HTML representation is unable to render, please try loading this page with nbviewer.org.</b></div><div class=\"sk-container\" hidden><div class=\"sk-item\"><div class=\"sk-estimator sk-toggleable\"><input class=\"sk-toggleable__control sk-hidden--visually\" id=\"sk-estimator-id-10\" type=\"checkbox\" checked><label for=\"sk-estimator-id-10\" class=\"sk-toggleable__label sk-toggleable__label-arrow\">SGDRegressor</label><div class=\"sk-toggleable__content\"><pre>SGDRegressor(alpha=0.01, eta0=0.1)</pre></div></div></div></div></div>"
      ],
      "text/plain": [
       "SGDRegressor(alpha=0.01, eta0=0.1)"
      ]
     },
     "execution_count": 77,
     "metadata": {},
     "output_type": "execute_result"
    }
   ],
   "source": [
    "model_sgd.fit(x_train_s,y_train)"
   ]
  },
  {
   "cell_type": "code",
   "execution_count": 78,
   "id": "bc0ef72e-6487-4a61-8c7c-abbdef6ad8d4",
   "metadata": {},
   "outputs": [],
   "source": [
    "# Check Scores from SGD Model\n"
   ]
  },
  {
   "cell_type": "code",
   "execution_count": 79,
   "id": "0320c5ee-a61b-40d2-a6d4-e94947f2cc2a",
   "metadata": {},
   "outputs": [
    {
     "name": "stdout",
     "output_type": "stream",
     "text": [
      "OLS: Train Score: 0.6979331548549799\n",
      "OLS: Test Score: 0.677749813999964\n"
     ]
    }
   ],
   "source": [
    "print('OLS: Train Score:',model_sgd.score(x_train_s,y_train))\n",
    "print('OLS: Test Score:',model_sgd.score(x_test_s,y_test))"
   ]
  },
  {
   "cell_type": "code",
   "execution_count": 80,
   "id": "11b18802-309d-4621-bdc5-5ee1057e6d3b",
   "metadata": {},
   "outputs": [
    {
     "data": {
      "text/html": [
       "<div>\n",
       "<style scoped>\n",
       "    .dataframe tbody tr th:only-of-type {\n",
       "        vertical-align: middle;\n",
       "    }\n",
       "\n",
       "    .dataframe tbody tr th {\n",
       "        vertical-align: top;\n",
       "    }\n",
       "\n",
       "    .dataframe thead th {\n",
       "        text-align: right;\n",
       "    }\n",
       "</style>\n",
       "<table border=\"1\" class=\"dataframe\">\n",
       "  <thead>\n",
       "    <tr style=\"text-align: right;\">\n",
       "      <th></th>\n",
       "      <th>Coef</th>\n",
       "      <th>Coef_SGD</th>\n",
       "    </tr>\n",
       "  </thead>\n",
       "  <tbody>\n",
       "    <tr>\n",
       "      <th>Blast Furnace Slag</th>\n",
       "      <td>0.080493</td>\n",
       "      <td>7.370971</td>\n",
       "    </tr>\n",
       "    <tr>\n",
       "      <th>Fly Ash</th>\n",
       "      <td>0.078325</td>\n",
       "      <td>3.904454</td>\n",
       "    </tr>\n",
       "    <tr>\n",
       "      <th>Superplasticizer</th>\n",
       "      <td>0.201586</td>\n",
       "      <td>2.438228</td>\n",
       "    </tr>\n",
       "    <tr>\n",
       "      <th>Age</th>\n",
       "      <td>0.239704</td>\n",
       "      <td>8.530268</td>\n",
       "    </tr>\n",
       "    <tr>\n",
       "      <th>Cement Water Ratio</th>\n",
       "      <td>19.145826</td>\n",
       "      <td>13.117489</td>\n",
       "    </tr>\n",
       "  </tbody>\n",
       "</table>\n",
       "</div>"
      ],
      "text/plain": [
       "                          Coef   Coef_SGD\n",
       "Blast Furnace Slag    0.080493   7.370971\n",
       "Fly Ash               0.078325   3.904454\n",
       "Superplasticizer      0.201586   2.438228\n",
       "Age                   0.239704   8.530268\n",
       "Cement Water Ratio   19.145826  13.117489"
      ]
     },
     "execution_count": 80,
     "metadata": {},
     "output_type": "execute_result"
    }
   ],
   "source": [
    "pd.DataFrame({'Coef':model_lr.coef_,'Coef_SGD':model_sgd.coef_},index=x.columns)"
   ]
  }
 ],
 "metadata": {
  "kernelspec": {
   "display_name": "Python 3 (ipykernel)",
   "language": "python",
   "name": "python3"
  },
  "language_info": {
   "codemirror_mode": {
    "name": "ipython",
    "version": 3
   },
   "file_extension": ".py",
   "mimetype": "text/x-python",
   "name": "python",
   "nbconvert_exporter": "python",
   "pygments_lexer": "ipython3",
   "version": "3.11.7"
  }
 },
 "nbformat": 4,
 "nbformat_minor": 5
}
